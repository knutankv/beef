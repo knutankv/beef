{
 "cells": [
  {
   "cell_type": "code",
   "execution_count": 2,
   "metadata": {},
   "outputs": [],
   "source": [
    "import numpy as np\n",
    "\n",
    "%matplotlib inline\n",
    "import matplotlib.pyplot as plt\n",
    "from knutils.structural import shearframe\n",
    "from beef import newmark\n",
    "\n",
    "# from jupyterthemes import jtplot\n",
    "\n",
    "# currently installed theme will be used to\n",
    "# set plot style if no arguments provided\n",
    "# jtplot.style(theme='default', gridlines='--', figsize=(8, 6), context='talk', fscale=1.25)"
   ]
  },
  {
   "cell_type": "code",
   "execution_count": 9,
   "metadata": {},
   "outputs": [
    {
     "name": "stdout",
     "output_type": "stream",
     "text": [
      "[[ 10. -10.]\n",
      " [-10.  20.]]\n",
      "1.9543950758485478\n"
     ]
    }
   ],
   "source": [
    "# Define shear frame 3 levels, k=10, c=0, m=1\n",
    "K, C, M, __ = shearframe(2, 10, 0.0, 1)\n",
    "\n",
    "print(K)\n",
    "\n",
    "# Eigenvalue solution for reference\n",
    "d,__ = np.linalg.eig(np.linalg.inv(M) @ K)\n",
    "omega = np.sort(np.sqrt(d))\n",
    "omega_1 = min(omega)\n",
    "print(omega_1)\n",
    "T = 2*np.pi/omega\n",
    "\n",
    "# Simulation settings\n",
    "n_periods = 10\n",
    "samples_per_load_period = 50\n",
    "nmfactors = newmark.factors('constant')\n",
    "beta, gamma = nmfactors['beta'], nmfactors['gamma']"
   ]
  },
  {
   "cell_type": "code",
   "execution_count": 10,
   "metadata": {},
   "outputs": [],
   "source": [
    "# DOF defintions (load, freq and response)\n",
    "load_dof = 1\n",
    "freq_dof = 0\n",
    "response_dof = 0\n",
    "\n",
    "# Construct force history\n",
    "t = np.arange(0, T[freq_dof]*n_periods, T[freq_dof]/samples_per_load_period)\n",
    "f = np.zeros([M.shape[0], len(t)])\n",
    "# f[load_dof, :] = np.linspace(0, 1000, len(t)) # Either this\n",
    "f[load_dof, :] = np.sin(omega[freq_dof]*t)   # or this\n",
    "\n",
    "# Define initial conditions (at rest)\n",
    "u0 = f[:, 0]*0\n",
    "udot0 = f[:, 0]*0"
   ]
  },
  {
   "cell_type": "code",
   "execution_count": 14,
   "metadata": {},
   "outputs": [],
   "source": [
    "# Run different versions of Newmark simulation\n",
    "u, udot, uddot = newmark.newmark_lin(K, C, M, f, t, u0, udot0, beta=beta, gamma=gamma, solver='full')\n",
    "u_lin, udot_lin, uddot_lin = newmark.newmark_lin(K, C, M, f, t, u0, udot0, beta=beta, gamma=gamma, solver='lin')\n",
    "u_lin2, udot_lin2, uddot_lin2 = newmark.newmark_lin(K, C, M, f, t, u0, udot0, beta=beta, gamma=gamma, solver='lin_alt')\n",
    "\n",
    "u_stat = u*0\n",
    "for k in range(0, f.shape[1]):\n",
    "    u_stat[:, k] = np.linalg.inv(K) @ f[:, k]\n"
   ]
  },
  {
   "cell_type": "code",
   "execution_count": 15,
   "metadata": {},
   "outputs": [
    {
     "name": "stdout",
     "output_type": "stream",
     "text": [
      "0.012984266229483196\n"
     ]
    },
    {
     "data": {
      "image/png": "[encoded data removed]",
      "text/plain": [
       "<Figure size 432x288 with 1 Axes>"
      ]
     },
     "metadata": {
      "needs_background": "light"
     },
     "output_type": "display_data"
    }
   ],
   "source": [
    "# Plot results\n",
    "fig = plt.figure(1)\n",
    "fig.clf()\n",
    "\n",
    "plt.plot(t, u[response_dof, :], label=f'$u_{response_dof+1}$')\n",
    "plt.plot(t, u_lin[response_dof, :], label=f'$u_{response_dof+1}$ (linear solver)', linestyle= ':', color='Red')\n",
    "plt.plot(t, u_lin2[response_dof, :], label=f'$u_{response_dof+1}$ (linear solver alt.)', linestyle='--', markersize=8, markevery=5, color='Black', alpha=1)\n",
    "# plt.plot(t, u_stat[response_dof, :], label=f'$u_{response_dof+1}$ (static)', linestyle=':', color='Green', alpha=1)\n",
    "plt.legend()\n",
    "plt.xlim(left=0, right=max(t))\n",
    "plt.ylim([-10,10])\n",
    "plt.grid('on')\n",
    "print(u[response_dof, 10])"
   ]
  },
  {
   "cell_type": "code",
   "execution_count": null,
   "metadata": {},
   "outputs": [],
   "source": []
  }
 ],
 "metadata": {
  "kernelspec": {
   "display_name": "Python 3",
   "language": "python",
   "name": "python3"
  },
  "language_info": {
   "codemirror_mode": {
    "name": "ipython",
    "version": 3
   },
   "file_extension": ".py",
   "mimetype": "text/x-python",
   "name": "python",
   "nbconvert_exporter": "python",
   "pygments_lexer": "ipython3",
   "version": "3.8.5"
  }
 },
 "nbformat": 4,
 "nbformat_minor": 4
}
