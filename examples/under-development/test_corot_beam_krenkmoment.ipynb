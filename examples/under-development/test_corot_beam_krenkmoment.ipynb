{
 "cells": [
  {
   "cell_type": "code",
   "execution_count": 3,
   "metadata": {},
   "outputs": [],
   "source": [
    "import numpy as np\n",
    "from beef import fe\n",
    "\n",
    "%matplotlib inline\n",
    "import matplotlib.pyplot as plt\n",
    "from beef.newmark import factors as newmark_factors\n",
    "# from jupyterthemes import jtplot\n",
    "\n",
    "# currently installed theme will be used to\n",
    "# set plot style if no arguments provided\n",
    "# jtplot.style(theme='default', gridlines='--', figsize=(8, 6), context='talk', fscale=1.25)"
   ]
  },
  {
   "cell_type": "markdown",
   "metadata": {},
   "source": [
    "## Defining system (parts, constraints, etc.)"
   ]
  },
  {
   "cell_type": "code",
   "execution_count": 22,
   "metadata": {},
   "outputs": [
    {
     "data": {
      "application/vnd.jupyter.widget-view+json": {
       "model_id": "9a48b4f1d3bd4fc2a2968d1f7e602480",
       "version_major": 2,
       "version_minor": 0
      },
      "text/plain": [
       "VispyWidget(height=600, width=800)"
      ]
     },
     "metadata": {},
     "output_type": "display_data"
    },
    {
     "data": {
      "text/plain": [
       "(<SceneCanvas (ipynb_webgl) at 0x2de17ccab80>, <ViewBox at 0x2de17d65520>)"
      ]
     },
     "execution_count": 22,
     "metadata": {},
     "output_type": "execute_result"
    }
   ],
   "source": [
    "E = 100\n",
    "A = 100\n",
    "I = 1\n",
    "sections = [fe.Section(E=E, A=A, I_y=I, poisson=0.3)]\n",
    "els = 20\n",
    "L = 10\n",
    "node_labels = np.arange(1,els+2)\n",
    "x = (node_labels-1)/(els)*L\n",
    "\n",
    "node_matrix = np.vstack([node_labels.T, x.T, x.T*0]).T\n",
    "element_matrix = np.vstack([np.arange(1,els+1), node_labels[0:-1], node_labels[1:]]).T\n",
    "\n",
    "constraints = [fe.Constraint([1], dofs='all', node_type='beam2d')]\n",
    "part = fe.Part(node_matrix, element_matrix, sections=sections, constraints=constraints)\n",
    "part.plot(plot_nodes=True, node_labels=False)"
   ]
  },
  {
   "cell_type": "markdown",
   "metadata": {},
   "source": [
    "## Defining force"
   ]
  },
  {
   "cell_type": "code",
   "execution_count": 23,
   "metadata": {},
   "outputs": [],
   "source": [
    "M = [2*np.pi*sections[0].E*sections[0].I[0]/L]\n",
    "dof = 2\n",
    "force_nodelabels = [node_labels[-1]]\n",
    "forces = [fe.Force(force_nodelabels, dof, M, t=1)]"
   ]
  },
  {
   "cell_type": "markdown",
   "metadata": {},
   "source": [
    "## Defining and running analyses"
   ]
  },
  {
   "cell_type": "code",
   "execution_count": 24,
   "metadata": {},
   "outputs": [
    {
     "data": {
      "application/vnd.jupyter.widget-view+json": {
       "model_id": "4e7a21b050f949f292e2054c53ffa3b2",
       "version_major": 2,
       "version_minor": 0
      },
      "text/plain": [
       "Static analysis:   0%|          | 0/21 [00:00<?, ?it/s]"
      ]
     },
     "metadata": {},
     "output_type": "display_data"
    }
   ],
   "source": [
    "dt = 0.05\n",
    "rayleigh = {'stiffness':0, 'mass':0}\n",
    "tol = dict(r=0.1)\n",
    "\n",
    "analysis_static = fe.Analysis(part, forces=forces, dt=dt, itmax=10, tol=tol)\n",
    "analysis_static.run_static()"
   ]
  },
  {
   "cell_type": "markdown",
   "metadata": {},
   "source": [
    "## Displacements of center node"
   ]
  },
  {
   "cell_type": "code",
   "execution_count": 26,
   "metadata": {},
   "outputs": [
    {
     "data": {
      "application/vnd.jupyter.widget-view+json": {
       "model_id": "1e5e1765798c4492a38a5045beb88ec1",
       "version_major": 2,
       "version_minor": 0
      },
      "text/plain": [
       "VispyWidget(height=600, width=800)"
      ]
     },
     "metadata": {},
     "output_type": "display_data"
    }
   ],
   "source": [
    "ax = analysis_static.eldef.plot(node_labels=False, element_labels=False, plot_nodes=True, overlay_deformed=True)"
   ]
  }
 ],
 "metadata": {
  "kernelspec": {
   "display_name": "Python 3 (ipykernel)",
   "language": "python",
   "name": "python3"
  },
  "language_info": {
   "codemirror_mode": {
    "name": "ipython",
    "version": 3
   },
   "file_extension": ".py",
   "mimetype": "text/x-python",
   "name": "python",
   "nbconvert_exporter": "python",
   "pygments_lexer": "ipython3",
   "version": "3.8.5"
  }
 },
 "nbformat": 4,
 "nbformat_minor": 4
}
