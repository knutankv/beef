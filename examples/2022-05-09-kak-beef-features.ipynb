{
 "cells": [
  {
   "cell_type": "markdown",
   "metadata": {},
   "source": [
    "# BEEF example: features"
   ]
  },
  {
   "cell_type": "code",
   "execution_count": 1,
   "metadata": {},
   "outputs": [],
   "source": [
    "from beef import fe\n",
    "import beef\n",
    "from beef.newmark import factors as newmark_factors, factors_from_alpha\n",
    "\n",
    "import numpy as np\n",
    "\n",
    "from vispy import app, gloo\n",
    "app.use_app('ipynb_webgl')\n",
    "import matplotlib.pyplot as plt"
   ]
  },
  {
   "cell_type": "code",
   "execution_count": 2,
   "metadata": {},
   "outputs": [],
   "source": [
    "# Define sections\n",
    "beam = dict(\n",
    "    A=0.1,\n",
    "    m=5000,\n",
    "    I_z=1e-2,\n",
    "    I_y=1e-2,\n",
    "    E=210e9,\n",
    "    J=1e-2,\n",
    "    poisson=0.3\n",
    "    )\n",
    "\n",
    "beam_section = fe.Section(**beam, name='Beam section')"
   ]
  },
  {
   "cell_type": "code",
   "execution_count": 3,
   "metadata": {},
   "outputs": [],
   "source": [
    "# Define geometry and mesh\n",
    "x1 = np.linspace(0,100,10)\n",
    "x2 = np.linspace(110,210,10)\n",
    "y1 = x1*0\n",
    "y2 = x1*0\n",
    "z = x1*0\n",
    "\n",
    "node_labels1 = np.arange(101,110+1)\n",
    "node_labels2 =  np.arange(201,210+1)\n",
    "\n",
    "node_matrix1 = np.vstack([node_labels1, x1, y1, z]).T\n",
    "node_matrix2 = np.vstack([node_labels2, x2, y2, z]).T\n",
    "\n",
    "element_matrix1 = np.vstack([node_labels1[:-1], node_labels1[:-1], node_labels1[1:]]).T\n",
    "element_matrix2 = np.vstack([node_labels2[:-1], node_labels2[:-1], node_labels2[1:]]).T\n",
    "\n",
    "sections1 = [beam_section]*element_matrix1.shape[0]\n",
    "sections2 = [beam_section]*element_matrix2.shape[0]"
   ]
  },
  {
   "cell_type": "code",
   "execution_count": 4,
   "metadata": {},
   "outputs": [
    {
     "data": {
      "application/vnd.jupyter.widget-view+json": {
       "model_id": "8651e782b50e4b039e4783b3545256c0",
       "version_major": 2,
       "version_minor": 0
      },
      "text/plain": [
       "VispyWidget(height=600, width=800)"
      ]
     },
     "metadata": {},
     "output_type": "display_data"
    }
   ],
   "source": [
    "# Define constraints, features and assembly\n",
    "constraints = [fe.Constraint([101], dofs='all', node_type='beam3d', name='Fixed end'),  # fixed at left end of left part\n",
    "               fe.Constraint([110,201,210], dofs=[1,2,3], node_type='beam3d', name='Fixed end')] # simply supported and torsionally supported at other three ends\n",
    "\n",
    "spring_nodelabels = [110, 201]\n",
    "spring_dofs = [0]\n",
    "spring_val = 1e2\n",
    "\n",
    "# mass_nodelabel = [206]\n",
    "# mass_dofs = [0,1,2]\n",
    "# mass_val = 0e3  # 5 tonnes\n",
    "\n",
    "features = [fe.Spring(spring_nodelabels, spring_dofs, spring_val)]\n",
    "\n",
    "part1 = fe.Part(node_matrix1, element_matrix1, sections1)\n",
    "part2 = fe.Part(node_matrix2, element_matrix2, sections2)\n",
    "\n",
    "assembly = fe.Assembly([part1, part2], constraints=constraints, features=features)\n",
    "assembly.plot(node_labels=True, element_labels=False, plot_nodes=True)\n",
    "k_features = assembly.get_feature_mats(['k'])\n"
   ]
  },
  {
   "cell_type": "code",
   "execution_count": 14,
   "metadata": {},
   "outputs": [
    {
     "data": {
      "application/vnd.jupyter.widget-view+json": {
       "model_id": "567ac389aec84ea1a12ea3ff046a1b6b",
       "version_major": 2,
       "version_minor": 0
      },
      "text/plain": [
       "Static analysis:   0%|          | 0/2 [00:00<?, ?it/s]"
      ]
     },
     "metadata": {},
     "output_type": "display_data"
    },
    {
     "data": {
      "application/vnd.jupyter.widget-view+json": {
       "model_id": "a88ef7876e354bdf8d700ae540cd5d7d",
       "version_major": 2,
       "version_minor": 0
      },
      "text/plain": [
       "VispyWidget(height=600, width=800)"
      ]
     },
     "metadata": {},
     "output_type": "display_data"
    },
    {
     "name": "stdout",
     "output_type": "stream",
     "text": [
      "k_target = 1.000e+02, k_FE = 1.000e+02\n"
     ]
    }
   ],
   "source": [
    "# Create analysis: linear static\n",
    "force_amplitude = 12e3 # 12 kN\n",
    "forces = [fe.Force([205], 0, force_amplitude)]\n",
    "analysis = fe.Analysis(assembly, forces=forces)\n",
    "analysis.run_lin_static()\n",
    "\n",
    "analysis.eldef.plot(overlay_deformed=True, plot_nodes=False, node_labels=False)\n",
    "print(f'k_target = {spring_val:.3e}, k_FE = {force_amplitude/analysis.u[-6,-1]:.3e}')"
   ]
  },
  {
   "cell_type": "code",
   "execution_count": 6,
   "metadata": {},
   "outputs": [
    {
     "name": "stdout",
     "output_type": "stream",
     "text": [
      "Mode 2, f = 0.1018 Hz\n"
     ]
    },
    {
     "data": {
      "application/vnd.jupyter.widget-view+json": {
       "model_id": "25acb23e9abc454b99f277d7378207c3",
       "version_major": 2,
       "version_minor": 0
      },
      "text/plain": [
       "VispyWidget(height=600, width=800)"
      ]
     },
     "metadata": {},
     "output_type": "display_data"
    },
    {
     "data": {
      "text/plain": [
       "(<SceneCanvas (ipynb_webgl) at 0x2264ecdabe0>, <ViewBox at 0x22653e42580>)"
      ]
     },
     "execution_count": 6,
     "metadata": {},
     "output_type": "execute_result"
    }
   ],
   "source": [
    "# Create analysis: eigenvalue solution\n",
    "from beef.modal import normalize_phi\n",
    "\n",
    "analysis = fe.Analysis(assembly)\n",
    "lambd, phi = analysis.run_eig()\n",
    "\n",
    "phi = normalize_phi(phi)\n",
    "\n",
    "mode_ix = 1\n",
    "scaling = 20.0\n",
    "analysis.eldef.deform(phi[:,mode_ix]*scaling)\n",
    "print(f'Mode {mode_ix+1}, f = {np.abs(np.imag(lambd[mode_ix])/2/np.pi):.4f} Hz')\n",
    "analysis.eldef.plot(overlay_deformed=True)"
   ]
  }
 ],
 "metadata": {
  "kernelspec": {
   "display_name": "Python 3 (ipykernel)",
   "language": "python",
   "name": "python3"
  },
  "language_info": {
   "codemirror_mode": {
    "name": "ipython",
    "version": 3
   },
   "file_extension": ".py",
   "mimetype": "text/x-python",
   "name": "python",
   "nbconvert_exporter": "python",
   "pygments_lexer": "ipython3",
   "version": "3.8.5"
  }
 },
 "nbformat": 4,
 "nbformat_minor": 4
}
