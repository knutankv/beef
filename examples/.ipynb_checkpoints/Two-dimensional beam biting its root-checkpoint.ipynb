{
 "cells": [
  {
   "cell_type": "markdown",
   "metadata": {},
   "source": [
    "# Example: Two-dimensional beam biting its root"
   ]
  },
  {
   "cell_type": "code",
   "execution_count": null,
   "metadata": {},
   "outputs": [],
   "source": [
    "from beef import fe\n",
    "import numpy as np\n",
    "import vispy\n",
    "vispy.use(\"jupyter_rfb\") \t# if Jupyter Labs, use 'jupyter_rfb'"
   ]
  },
  {
   "cell_type": "markdown",
   "metadata": {},
   "source": [
    "First, the `fe.Section` class is used to construct a Section object describing the properties of the beam:"
   ]
  },
  {
   "cell_type": "code",
   "execution_count": null,
   "metadata": {},
   "outputs": [],
   "source": [
    "section = fe.Section(E=100, A=100, I_y=1, poisson=0.3) \t# list of Section objects"
   ]
  },
  {
   "cell_type": "markdown",
   "metadata": {},
   "source": [
    "Thereafter, the beam is discretized into 20 elements and is given a length of 10 m. A node matrix and an element matrix is constructed (typical input to commercial FE software), to construct the part. The beam is constrained in all degrees of freedom in node 1, by creating and inputting a list of a single `fe.Constraint` object."
   ]
  },
  {
   "cell_type": "code",
   "execution_count": null,
   "metadata": {},
   "outputs": [],
   "source": [
    "# Define mesh\n",
    "els = 20\n",
    "L = 10\n",
    "node_labels = np.arange(1, els+2)\n",
    "x = (node_labels - 1)/els*L\n",
    "\n",
    "node_matrix = np.vstack([node_labels.T, x.T, x.T*0]).T \t# rows: label, x, y\n",
    "element_matrix = np.vstack([np.arange(1,els+1), node_labels[0:-1], node_labels[1:]]).T # rows: label, n1, n2\n",
    "\n",
    "# Define constraints\n",
    "constrained_nodes = [1]\n",
    "constraints = [fe.Constraint(constrained_nodes, dofs='all', node_type='beam2d')] \t# list of Constraint objects\n",
    "\n",
    "# Define part and plot part\n",
    "part = fe.Part(node_matrix, element_matrix, sections=section, constraints=constraints)   # Part(ElDef) object\n",
    "\n",
    "scene, __ = part.plot(plot_nodes=True, node_labels=True)\n",
    "scene"
   ]
  },
  {
   "cell_type": "markdown",
   "metadata": {},
   "source": [
    "Furthermore, a moment $M=2\\pi E I/L$ (analytical moment needed for beam to bite its tail) is applied along degree-of-freedom index 2 at the rightmost node (last label in `node_labels`):"
   ]
  },
  {
   "cell_type": "code",
   "execution_count": null,
   "metadata": {},
   "outputs": [],
   "source": [
    "# Define force\n",
    "M = [2*np.pi*section.E*section.I[0]/L]\t# analytical moment needed for beam to bite its tail\n",
    "dof_ix = 2\t# i.e., bending moment\n",
    "force_nodelabels = [node_labels[-1]]\t# apply force on last node (rightmost)\n",
    "forces = [fe.Force(force_nodelabels, dof_ix, M, t=1)] \t# list of Force objects"
   ]
  },
  {
   "cell_type": "markdown",
   "metadata": {},
   "source": [
    "Finally, the analysis object is initiated by the `Part` object, the list of `Force` objects, and parameters `dt` (time step) and `tol` (dictionary describing tolerance criteria for displacements, 'u' and residual forces, 'r'). The analysis is furthermore run by invoking `analysis.run_static()`:"
   ]
  },
  {
   "cell_type": "code",
   "execution_count": null,
   "metadata": {},
   "outputs": [],
   "source": [
    "# Define and run analysis\n",
    "dt = 0.1 \t# time step\n",
    "tol = dict(r=0.1) \t#tolerances, specified residual max. 0.1\n",
    "analysis = fe.Analysis(part, forces=forces, dt=dt, tol=tol)  # Analysis object, tmax not specified => tmax=1.0\n",
    "analysis.run_static() # run static analysis"
   ]
  },
  {
   "cell_type": "markdown",
   "metadata": {},
   "source": [
    "The resulting deformation is plotted as follows:"
   ]
  },
  {
   "cell_type": "code",
   "execution_count": null,
   "metadata": {},
   "outputs": [],
   "source": [
    "scene, __ = analysis.eldef.plot(node_labels=False, element_labels=False, plot_nodes=True, overlay_deformed=True)\n",
    "scene"
   ]
  }
 ],
 "metadata": {
  "kernelspec": {
   "display_name": "Python 3 (ipykernel)",
   "language": "python",
   "name": "python3"
  },
  "language_info": {
   "codemirror_mode": {
    "name": "ipython",
    "version": 3
   },
   "file_extension": ".py",
   "mimetype": "text/x-python",
   "name": "python",
   "nbconvert_exporter": "python",
   "pygments_lexer": "ipython3",
   "version": "3.8.5"
  },
  "vscode": {
   "interpreter": {
    "hash": "405ffbce1b55fd66068d104091c85397ff7cc906e265df46fa9cd0d07ef223f6"
   }
  }
 },
 "nbformat": 4,
 "nbformat_minor": 4
}
