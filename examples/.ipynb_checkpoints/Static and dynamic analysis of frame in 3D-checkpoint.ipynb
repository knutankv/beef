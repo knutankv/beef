{
 "cells": [
  {
   "cell_type": "markdown",
   "metadata": {},
   "source": [
    "# Example: Static and dynamic analysis of frame in 3D"
   ]
  },
  {
   "cell_type": "code",
   "execution_count": null,
   "metadata": {},
   "outputs": [],
   "source": [
    "from beef import fe\n",
    "import beef\n",
    "from beef.newmark import factors as newmark_factors, factors_from_alpha\n",
    "\n",
    "import numpy as np\n",
    "\n",
    "from vispy import app, gloo\n",
    "app.use_app('jupyter_rfb')\n",
    "\n",
    "import matplotlib.pyplot as plt"
   ]
  },
  {
   "cell_type": "markdown",
   "metadata": {},
   "source": [
    "Two sections (´deck_section´ and ´column_section´) are created with different section properties using ´fe.Section´. Furthermore, a Rayleigh damping with coefficients $\\alpha=\\beta=10^{-3}$ is defined in a dictionary."
   ]
  },
  {
   "cell_type": "code",
   "execution_count": null,
   "metadata": {},
   "outputs": [],
   "source": [
    "# Deck section\n",
    "deck_section_params = dict(\n",
    "    A=10,\n",
    "    m=5000,\n",
    "    I_z=1e-2,\n",
    "    I_y=1e-2,\n",
    "    E=210e9,\n",
    "    J=1e-2,\n",
    "    poisson=0.3\n",
    "    )\n",
    "\n",
    "deck_section = fe.Section(**deck_section_params, name='Deck beam section')\n",
    "\n",
    "# Column section\n",
    "column_section_params = dict(\n",
    "    A=10,\n",
    "    m=5000,\n",
    "    I_z=1e-2,\n",
    "    I_y=1e-1,\n",
    "    J=1e-2,\n",
    "    E=210e9,\n",
    "    poisson=0.3\n",
    "    )\n",
    "\n",
    "column_section = fe.Section(**column_section_params, name='Column beam section')\n",
    "\n",
    "rayleigh=dict(mass=1e-3, stiffness=1e-3)"
   ]
  },
  {
   "cell_type": "markdown",
   "metadata": {},
   "source": [
    "Furthermore, the geometry and mesh of the system is made and stacked in traditional formats for node and element matrices."
   ]
  },
  {
   "cell_type": "code",
   "execution_count": null,
   "metadata": {},
   "outputs": [],
   "source": [
    "# Define geometry and mesh\n",
    "x = np.linspace(0,100,20)\n",
    "y = x*1\n",
    "z = x*0\n",
    "deck_nodelabels = np.arange(1,21)\n",
    "\n",
    "# Node matrix: deck\n",
    "node_matrix1 = np.vstack([deck_nodelabels, x, y, z]).T\n",
    "\n",
    "# Node matrix: columns\n",
    "x1,y1 = x[7], y[7]\n",
    "x2,y2 = x[12], y[12]\n",
    "node_matrix2 = np.array([[101, x1, y1, -30],\n",
    "                         [102, x1, y1, -20],\n",
    "                         [103, x1, y1, -10],\n",
    "                         [104, x1, y1, 0],\n",
    "                         [201, x2, y2, -30],\n",
    "                         [202, x2, y2, -20],\n",
    "                         [203, x2, y2, -10],\n",
    "                         [204, x2, y2, 0]\n",
    "                        ])\n",
    "\n",
    "# Element matrices\n",
    "element_matrix1 = np.vstack([deck_nodelabels[:-1], deck_nodelabels[:-1], deck_nodelabels[1:]]).T\n",
    "element_matrix2 = np.array([[101, 101, 102],\n",
    "                            [102, 102, 103],\n",
    "                            [103, 103, 104],\n",
    "                            [201, 201, 202],\n",
    "                            [202, 202, 203],\n",
    "                            [203, 203, 204]]) \n",
    "\n",
    "sections1 = [deck_section]*element_matrix1.shape[0]\n",
    "sections2 = [column_section]*element_matrix2.shape[0]"
   ]
  },
  {
   "cell_type": "markdown",
   "metadata": {},
   "source": [
    "A part for the deck and a part for the set of columns are created. Then, constraints tieing the top nodes of the columns with the deck, fixing the bottom of the columns and supporting the ends of the deck translational are created. They are then placed in an assembly together with the constraints. "
   ]
  },
  {
   "cell_type": "code",
   "execution_count": null,
   "metadata": {},
   "outputs": [],
   "source": [
    "# Define two parts\n",
    "part1 = fe.Part(node_matrix1, element_matrix1, sections1)\n",
    "part2 = fe.Part(node_matrix2, element_matrix2, sections2)\n",
    "\n",
    "# Define constraints\n",
    "master_nodes = [8,13]\n",
    "slave_nodes = [104,204] \n",
    "\n",
    "constraints_tie = [fe.Constraint(master_nodes, slave_nodes=slave_nodes, dofs='all', node_type='beam3d')] \n",
    "constraints_fix = [fe.Constraint([101, 201], dofs='all', node_type='beam3d')]\n",
    "constraints_simplysupported = [fe.Constraint([1, 20], dofs='trans', node_type='beam3d')]\n",
    "\n",
    "constraints = constraints_tie + constraints_fix + constraints_simplysupported\n",
    "\n",
    "# Define assembly\n",
    "assembly = fe.Assembly([part1, part2], constraints=constraints)"
   ]
  },
  {
   "cell_type": "markdown",
   "metadata": {},
   "source": [
    "A plot of the system with element labels off and node labels on is then created:"
   ]
  },
  {
   "cell_type": "code",
   "execution_count": null,
   "metadata": {},
   "outputs": [],
   "source": [
    "sc, __ = assembly.plot(node_labels=True, element_labels=False)\n",
    "sc"
   ]
  },
  {
   "cell_type": "markdown",
   "metadata": {},
   "source": [
    "## Static analysis\n",
    "A force definition with 1000kN assigned laterally in all nodes along the deck is then created, put in an analysis-object together with the assembly and run using the linear static solver. The resulting displacement is then plotted."
   ]
  },
  {
   "cell_type": "code",
   "execution_count": null,
   "metadata": {
    "scrolled": false
   },
   "outputs": [],
   "source": [
    "# Create analysis: linear static\n",
    "forces = [fe.Force(deck_nodelabels, 1, 1000e3)] # 1000 kN laterally on all nodes\n",
    "analysis = fe.Analysis(assembly, forces=forces)\n",
    "analysis.run_lin_static()\n",
    "\n",
    "sc, __ = analysis.eldef.plot(overlay_deformed=True, plot_nodes=False)\n",
    "sc\n"
   ]
  },
  {
   "cell_type": "markdown",
   "metadata": {},
   "source": [
    "## Eigenvalue solution\n",
    "The same analysis object with the same assembly is recreated, and an eigenvalue solution is conducted. A plot showing mode 1 is also created."
   ]
  },
  {
   "cell_type": "code",
   "execution_count": null,
   "metadata": {},
   "outputs": [],
   "source": [
    "from beef.modal import normalize_phi\n",
    "\n",
    "analysis = fe.Analysis(assembly)\n",
    "lambd, phi = analysis.run_eig()\n",
    "\n",
    "phi = normalize_phi(phi)\n",
    "\n",
    "mode_ix = 1\n",
    "scaling = 5.0\n",
    "analysis.eldef.deform(phi[:,mode_ix]*scaling)\n",
    "print(f'Mode {mode_ix+1}, f = {np.abs(np.imag(lambd[mode_ix])/2/np.pi):.4f} Hz')\n",
    "sc, __ = analysis.eldef.plot(overlay_deformed=True)\n",
    "\n",
    "sc"
   ]
  },
  {
   "cell_type": "markdown",
   "metadata": {},
   "source": [
    "## Linear dynamic analysis at resonance of mode 2\n",
    "The eigenvalue solution indicate a natural frequency of 0.3727Hz of mode 2. A force oscillating on this frequency with ampliutde 1000kN is applied laterally in the deck nodes in one of the side spans. Thereafter, a linear dynamic analysis is conducted to predict the response at resonance."
   ]
  },
  {
   "cell_type": "code",
   "execution_count": null,
   "metadata": {},
   "outputs": [],
   "source": [
    "# Create analysis: resonant linear dynamic response\n",
    "tmax = 60\n",
    "node_labels = [1,2,3,4,5,6,7,8]\n",
    "dt = 0.1 # for simulation\n",
    "\n",
    "t_force = np.arange(0, tmax, dt)\n",
    "om_force = 0.3727*(2*np.pi)\n",
    "force_amplitude = 1000e3*np.sin(t_force*om_force)\n",
    "\n",
    "forces = [fe.Force(node_labels, 1, force_amplitude, t=t_force)]\n",
    "analysis = fe.Analysis(assembly, forces=forces, t0=0, dt=dt, \n",
    "                       tmax=tmax, rayleigh=rayleigh)\n",
    "\n",
    "analysis.run_lin_dynamic()"
   ]
  },
  {
   "cell_type": "code",
   "execution_count": null,
   "metadata": {},
   "outputs": [],
   "source": [
    "# Plots\n",
    "node_to_plot = 5\n",
    "plt.plot(t_force, force_amplitude/1e3)\n",
    "plt.xlabel('Time [s]'), plt.ylabel('Lateral force on deck nodes [kN]')\n",
    "plt.figure()\n",
    "plt.plot(analysis.t, analysis.u[node_to_plot*6 + 1, :])\n",
    "__,__ = plt.xlabel('Time [s]'), plt.ylabel(f'Lateral displacement node {node_to_plot} [m]')"
   ]
  }
 ],
 "metadata": {
  "kernelspec": {
   "display_name": "Python 3 (ipykernel)",
   "language": "python",
   "name": "python3"
  },
  "language_info": {
   "codemirror_mode": {
    "name": "ipython",
    "version": 3
   },
   "file_extension": ".py",
   "mimetype": "text/x-python",
   "name": "python",
   "nbconvert_exporter": "python",
   "pygments_lexer": "ipython3",
   "version": "3.8.5"
  }
 },
 "nbformat": 4,
 "nbformat_minor": 4
}
