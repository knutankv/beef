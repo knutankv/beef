{
 "cells": [
  {
   "cell_type": "markdown",
   "metadata": {},
   "source": [
    "# BEEF example - 3D analyses"
   ]
  },
  {
   "cell_type": "code",
   "execution_count": 1,
   "metadata": {},
   "outputs": [],
   "source": [
    "from beef import fe\n",
    "import beef\n",
    "from beef.newmark import factors as newmark_factors, factors_from_alpha\n",
    "\n",
    "import numpy as np\n",
    "\n",
    "from vispy import app, gloo\n",
    "app.use_app('ipynb_webgl')\n",
    "import matplotlib.pyplot as plt"
   ]
  },
  {
   "cell_type": "code",
   "execution_count": 2,
   "metadata": {},
   "outputs": [],
   "source": [
    "# Define sections\n",
    "# Deck\n",
    "deck_section_params = dict(\n",
    "    A=1.43,\n",
    "    m=12472.73*1.25*1.43,\n",
    "    I_z=115.62,\n",
    "    I_y=5,\n",
    "    E=210e9,\n",
    "    poisson=0.3\n",
    "    )\n",
    "\n",
    "deck_section = fe.Section(**deck_section_params, name='Deck beam section')\n",
    "\n",
    "# Tower\n",
    "tower_section_params = dict(\n",
    "    A=1.43,\n",
    "    m=12472.73*1.25*1.43,\n",
    "    I_z=5,\n",
    "    I_y=5,\n",
    "    E=210e9,\n",
    "    poisson=0.3\n",
    "    )\n",
    "\n",
    "tower_section = fe.Section(**tower_section_params, name='Tower beam section')\n",
    "\n",
    "rayleigh=dict(mass=1e-3, stiffness=1e-3)"
   ]
  },
  {
   "cell_type": "code",
   "execution_count": 3,
   "metadata": {},
   "outputs": [],
   "source": [
    "# Define geometry and mesh\n",
    "# Deck beams\n",
    "node_matrix1 = np.loadtxt('./data/nodes1.dat', delimiter=' ')\n",
    "element_matrix1 = np.loadtxt('./data/elements1.dat', delimiter=' ') \n",
    "\n",
    "# Fix element_matrix (from index to label)\n",
    "element_matrix1[:,1] = np.hstack([node_matrix1[int(node_ix),0] for node_ix in element_matrix1[:,1]])\n",
    "element_matrix1[:,2] = np.hstack([node_matrix1[int(node_ix),0] for node_ix in element_matrix1[:,2]])\n",
    "\n",
    "# Tower beams\n",
    "node_matrix2 = np.loadtxt('./data/nodes2.dat', delimiter=' ')\n",
    "element_matrix2 = np.loadtxt('./data/elements2.dat', delimiter=' ') \n",
    "\n",
    "# Fix element_matrix (from index to label)\n",
    "element_matrix2[:,1] = np.hstack([node_matrix2[int(node_ix),0] for node_ix in element_matrix2[:,1]])\n",
    "element_matrix2[:,2] = np.hstack([node_matrix2[int(node_ix),0] for node_ix in element_matrix2[:,2]])\n",
    "\n",
    "element_matrix_merged = np.vstack([element_matrix1, element_matrix2])\n",
    "node_matrix_merged = np.vstack([node_matrix1, node_matrix2])\n",
    "\n",
    "sections1 = [deck_section]*element_matrix1.shape[0]\n",
    "sections2 = [tower_section]*element_matrix2.shape[0]\n",
    "sections = sections1 + sections2 "
   ]
  },
  {
   "cell_type": "code",
   "execution_count": 4,
   "metadata": {},
   "outputs": [],
   "source": [
    "# Node tie constraints\n",
    "tie_nodes = [[6, 7],\n",
    "             [98, 84],\n",
    "             [14, 13],\n",
    "             [25, 26],\n",
    "             [39, 38],\n",
    "             [51, 52],\n",
    "             [64, 65],\n",
    "             [90, 91],\n",
    "             [108, 109],\n",
    "             [122, 123],\n",
    "             [135, 136],\n",
    "             [148, 149],\n",
    "             [161, 162],\n",
    "             [174, 175],\n",
    "             [187, 188],\n",
    "             [199, 200],\n",
    "             [211, 212],\n",
    "             [223, 224],\n",
    "             [235, 236],\n",
    "             [247, 248],\n",
    "             [259, 260],\n",
    "             [271, 272],\n",
    "             [283, 284],\n",
    "             [295, 296],\n",
    "             [307, 308],\n",
    "             [319, 320],\n",
    "             [331, 332],\n",
    "             [343, 344],\n",
    "             [355, 356],\n",
    "             [367, 368],\n",
    "             [379, 380],\n",
    "             [391, 392],\n",
    "             [403, 404],\n",
    "             [415, 416],\n",
    "             [427, 428],\n",
    "             [439, 440],\n",
    "             [451, 452],\n",
    "             [463, 464],\n",
    "             [475, 476],\n",
    "             [487, 488],\n",
    "             [499, 500],\n",
    "             [511, 512],\n",
    "             [523, 534],\n",
    "             [535, 536],\n",
    "             [547, 548]]\n",
    "\n",
    "constraints_columns_to_beam = [fe.Constraint(nodes, dofs='all', node_type='beam3d') for nodes in tie_nodes]"
   ]
  },
  {
   "cell_type": "code",
   "execution_count": 5,
   "metadata": {},
   "outputs": [
    {
     "ename": "IndexError",
     "evalue": "index 0 is out of bounds for axis 0 with size 0",
     "output_type": "error",
     "traceback": [
      "\u001b[1;31m---------------------------------------------------------------------------\u001b[0m",
      "\u001b[1;31mIndexError\u001b[0m                                Traceback (most recent call last)",
      "\u001b[1;32m<ipython-input-5-b41a69a9dda8>\u001b[0m in \u001b[0;36m<module>\u001b[1;34m\u001b[0m\n\u001b[0;32m      6\u001b[0m \u001b[0mpart2\u001b[0m \u001b[1;33m=\u001b[0m \u001b[0mfe\u001b[0m\u001b[1;33m.\u001b[0m\u001b[0mPart\u001b[0m\u001b[1;33m(\u001b[0m\u001b[0mnode_matrix2\u001b[0m\u001b[1;33m,\u001b[0m \u001b[0melement_matrix2\u001b[0m\u001b[1;33m,\u001b[0m \u001b[0msections2\u001b[0m\u001b[1;33m)\u001b[0m\u001b[1;33m\u001b[0m\u001b[1;33m\u001b[0m\u001b[0m\n\u001b[0;32m      7\u001b[0m \u001b[1;33m\u001b[0m\u001b[0m\n\u001b[1;32m----> 8\u001b[1;33m \u001b[0massembly\u001b[0m \u001b[1;33m=\u001b[0m \u001b[0mfe\u001b[0m\u001b[1;33m.\u001b[0m\u001b[0mAssembly\u001b[0m\u001b[1;33m(\u001b[0m\u001b[1;33m[\u001b[0m\u001b[0mpart1\u001b[0m\u001b[1;33m,\u001b[0m \u001b[0mpart2\u001b[0m\u001b[1;33m]\u001b[0m\u001b[1;33m,\u001b[0m \u001b[0mconstraints\u001b[0m\u001b[1;33m=\u001b[0m\u001b[0mconstraints\u001b[0m\u001b[1;33m)\u001b[0m\u001b[1;33m\u001b[0m\u001b[1;33m\u001b[0m\u001b[0m\n\u001b[0m",
      "\u001b[1;32mc:\\users\\knutankv\\git-repos\\beef\\beef\\fe\\eldef.py\u001b[0m in \u001b[0;36m__init__\u001b[1;34m(self, parts, **kwargs)\u001b[0m\n\u001b[0;32m    450\u001b[0m             \u001b[1;32mraise\u001b[0m \u001b[0mValueError\u001b[0m\u001b[1;33m(\u001b[0m\u001b[1;34m'Cannot combine parts in different domains. Use either 2d or 3d for all parts!'\u001b[0m\u001b[1;33m)\u001b[0m\u001b[1;33m\u001b[0m\u001b[1;33m\u001b[0m\u001b[0m\n\u001b[0;32m    451\u001b[0m \u001b[1;33m\u001b[0m\u001b[0m\n\u001b[1;32m--> 452\u001b[1;33m         \u001b[0msuper\u001b[0m\u001b[1;33m(\u001b[0m\u001b[1;33m)\u001b[0m\u001b[1;33m.\u001b[0m\u001b[0m__init__\u001b[0m\u001b[1;33m(\u001b[0m\u001b[0mself\u001b[0m\u001b[1;33m.\u001b[0m\u001b[0mall_nodes\u001b[0m\u001b[1;33m(\u001b[0m\u001b[0mparts\u001b[0m\u001b[1;33m)\u001b[0m\u001b[1;33m,\u001b[0m \u001b[0mself\u001b[0m\u001b[1;33m.\u001b[0m\u001b[0mall_elements\u001b[0m\u001b[1;33m(\u001b[0m\u001b[0mparts\u001b[0m\u001b[1;33m)\u001b[0m\u001b[1;33m,\u001b[0m \u001b[1;33m**\u001b[0m\u001b[0mkwargs\u001b[0m\u001b[1;33m)\u001b[0m\u001b[1;33m\u001b[0m\u001b[1;33m\u001b[0m\u001b[0m\n\u001b[0m\u001b[0;32m    453\u001b[0m         \u001b[0mself\u001b[0m\u001b[1;33m.\u001b[0m\u001b[0mparts\u001b[0m \u001b[1;33m=\u001b[0m \u001b[0mparts\u001b[0m\u001b[1;33m\u001b[0m\u001b[1;33m\u001b[0m\u001b[0m\n\u001b[0;32m    454\u001b[0m \u001b[1;33m\u001b[0m\u001b[0m\n",
      "\u001b[1;32mc:\\users\\knutankv\\git-repos\\beef\\beef\\fe\\eldef.py\u001b[0m in \u001b[0;36m__init__\u001b[1;34m(self, nodes, elements, constraints, include_linear_kg, constraint_type, domain, features, assemble)\u001b[0m\n\u001b[0;32m     22\u001b[0m         \u001b[0mself\u001b[0m\u001b[1;33m.\u001b[0m\u001b[0mconstraints\u001b[0m \u001b[1;33m=\u001b[0m \u001b[0mconstraints\u001b[0m\u001b[1;33m\u001b[0m\u001b[1;33m\u001b[0m\u001b[0m\n\u001b[0;32m     23\u001b[0m         \u001b[0mself\u001b[0m\u001b[1;33m.\u001b[0m\u001b[0mconstraint_type\u001b[0m \u001b[1;33m=\u001b[0m \u001b[0mconstraint_type\u001b[0m\u001b[1;33m\u001b[0m\u001b[1;33m\u001b[0m\u001b[0m\n\u001b[1;32m---> 24\u001b[1;33m         \u001b[0mself\u001b[0m\u001b[1;33m.\u001b[0m\u001b[0mdof_pairs\u001b[0m \u001b[1;33m=\u001b[0m \u001b[0mself\u001b[0m\u001b[1;33m.\u001b[0m\u001b[0mconstraint_dof_ix\u001b[0m\u001b[1;33m(\u001b[0m\u001b[1;33m)\u001b[0m               \u001b[1;31m#PATCH for compatibility with nlfe2d module\u001b[0m\u001b[1;33m\u001b[0m\u001b[1;33m\u001b[0m\u001b[0m\n\u001b[0m\u001b[0;32m     25\u001b[0m         \u001b[0mself\u001b[0m\u001b[1;33m.\u001b[0m\u001b[0mgdof_ix_from_nodelabels\u001b[0m \u001b[1;33m=\u001b[0m \u001b[1;32mlambda\u001b[0m \u001b[0mnode_labels\u001b[0m\u001b[1;33m,\u001b[0m \u001b[0mdof_ix\u001b[0m\u001b[1;33m:\u001b[0m \u001b[0mgdof_ix_from_nodelabels\u001b[0m\u001b[1;33m(\u001b[0m\u001b[0mself\u001b[0m\u001b[1;33m.\u001b[0m\u001b[0mget_node_labels\u001b[0m\u001b[1;33m(\u001b[0m\u001b[1;33m)\u001b[0m\u001b[1;33m,\u001b[0m \u001b[0mnode_labels\u001b[0m\u001b[1;33m,\u001b[0m \u001b[0mdof_ix\u001b[0m\u001b[1;33m=\u001b[0m\u001b[0mdof_ix\u001b[0m\u001b[1;33m)\u001b[0m  \u001b[1;31m#PATCH for compatibility with nlfe2d module\u001b[0m\u001b[1;33m\u001b[0m\u001b[1;33m\u001b[0m\u001b[0m\n\u001b[0;32m     26\u001b[0m \u001b[1;33m\u001b[0m\u001b[0m\n",
      "\u001b[1;32mc:\\users\\knutankv\\git-repos\\beef\\beef\\fe\\eldef.py\u001b[0m in \u001b[0;36mconstraint_dof_ix\u001b[1;34m(self)\u001b[0m\n\u001b[0;32m    292\u001b[0m             \u001b[1;32mfor\u001b[0m \u001b[0mnode_constraint\u001b[0m \u001b[1;32min\u001b[0m \u001b[0mconstraint\u001b[0m\u001b[1;33m.\u001b[0m\u001b[0mnode_constraints\u001b[0m\u001b[1;33m:\u001b[0m\u001b[1;33m\u001b[0m\u001b[1;33m\u001b[0m\u001b[0m\n\u001b[0;32m    293\u001b[0m                 \u001b[0mdofs\u001b[0m \u001b[1;33m=\u001b[0m \u001b[0mnp\u001b[0m\u001b[1;33m.\u001b[0m\u001b[0marray\u001b[0m\u001b[1;33m(\u001b[0m\u001b[0mnode_constraint\u001b[0m\u001b[1;33m.\u001b[0m\u001b[0mdof_ix\u001b[0m\u001b[1;33m)\u001b[0m\u001b[1;33m\u001b[0m\u001b[1;33m\u001b[0m\u001b[0m\n\u001b[1;32m--> 294\u001b[1;33m                 \u001b[0mdof_ixs\u001b[0m \u001b[1;33m=\u001b[0m \u001b[0mself\u001b[0m\u001b[1;33m.\u001b[0m\u001b[0mnode_label_to_dof_ix\u001b[0m\u001b[1;33m(\u001b[0m\u001b[0mnode_constraint\u001b[0m\u001b[1;33m.\u001b[0m\u001b[0mmaster_node\u001b[0m\u001b[1;33m)\u001b[0m\u001b[1;33m[\u001b[0m\u001b[0mdofs\u001b[0m\u001b[1;33m]\u001b[0m\u001b[1;33m\u001b[0m\u001b[1;33m\u001b[0m\u001b[0m\n\u001b[0m\u001b[0;32m    295\u001b[0m \u001b[1;33m\u001b[0m\u001b[0m\n\u001b[0;32m    296\u001b[0m                 \u001b[1;32mif\u001b[0m \u001b[0mnode_constraint\u001b[0m\u001b[1;33m.\u001b[0m\u001b[0mslave_node\u001b[0m \u001b[1;32mis\u001b[0m \u001b[1;32mnot\u001b[0m \u001b[1;32mNone\u001b[0m\u001b[1;33m:\u001b[0m\u001b[1;33m\u001b[0m\u001b[1;33m\u001b[0m\u001b[0m\n",
      "\u001b[1;32mc:\\users\\knutankv\\git-repos\\beef\\beef\\fe\\eldef.py\u001b[0m in \u001b[0;36mnode_label_to_dof_ix\u001b[1;34m(self, node_label)\u001b[0m\n\u001b[0;32m    207\u001b[0m \u001b[1;33m\u001b[0m\u001b[0m\n\u001b[0;32m    208\u001b[0m     \u001b[1;32mdef\u001b[0m \u001b[0mnode_label_to_dof_ix\u001b[0m\u001b[1;33m(\u001b[0m\u001b[0mself\u001b[0m\u001b[1;33m,\u001b[0m \u001b[0mnode_label\u001b[0m\u001b[1;33m)\u001b[0m\u001b[1;33m:\u001b[0m\u001b[1;33m\u001b[0m\u001b[1;33m\u001b[0m\u001b[0m\n\u001b[1;32m--> 209\u001b[1;33m         \u001b[0mnode_ix\u001b[0m \u001b[1;33m=\u001b[0m \u001b[0mself\u001b[0m\u001b[1;33m.\u001b[0m\u001b[0mnode_label_to_node_ix\u001b[0m\u001b[1;33m(\u001b[0m\u001b[0mnode_label\u001b[0m\u001b[1;33m)\u001b[0m\u001b[1;33m\u001b[0m\u001b[1;33m\u001b[0m\u001b[0m\n\u001b[0m\u001b[0;32m    210\u001b[0m         \u001b[0mlower_dofs\u001b[0m \u001b[1;33m=\u001b[0m \u001b[0msum\u001b[0m\u001b[1;33m(\u001b[0m\u001b[0mself\u001b[0m\u001b[1;33m.\u001b[0m\u001b[0mall_ndofs\u001b[0m\u001b[1;33m[\u001b[0m\u001b[1;33m:\u001b[0m\u001b[0mnode_ix\u001b[0m\u001b[1;33m]\u001b[0m\u001b[1;33m)\u001b[0m\u001b[1;33m\u001b[0m\u001b[1;33m\u001b[0m\u001b[0m\n\u001b[0;32m    211\u001b[0m         \u001b[0mdof_ix\u001b[0m \u001b[1;33m=\u001b[0m \u001b[0mlower_dofs\u001b[0m \u001b[1;33m+\u001b[0m \u001b[0mnp\u001b[0m\u001b[1;33m.\u001b[0m\u001b[0marange\u001b[0m\u001b[1;33m(\u001b[0m\u001b[1;36m0\u001b[0m\u001b[1;33m,\u001b[0m \u001b[0mself\u001b[0m\u001b[1;33m.\u001b[0m\u001b[0mall_ndofs\u001b[0m\u001b[1;33m[\u001b[0m\u001b[0mnode_ix\u001b[0m\u001b[1;33m]\u001b[0m\u001b[1;33m)\u001b[0m\u001b[1;33m\u001b[0m\u001b[1;33m\u001b[0m\u001b[0m\n",
      "\u001b[1;32mc:\\users\\knutankv\\git-repos\\beef\\beef\\fe\\eldef.py\u001b[0m in \u001b[0;36mnode_label_to_node_ix\u001b[1;34m(self, node_label)\u001b[0m\n\u001b[0;32m    202\u001b[0m \u001b[1;33m\u001b[0m\u001b[0m\n\u001b[0;32m    203\u001b[0m     \u001b[1;32mdef\u001b[0m \u001b[0mnode_label_to_node_ix\u001b[0m\u001b[1;33m(\u001b[0m\u001b[0mself\u001b[0m\u001b[1;33m,\u001b[0m \u001b[0mnode_label\u001b[0m\u001b[1;33m)\u001b[0m\u001b[1;33m:\u001b[0m\u001b[1;33m\u001b[0m\u001b[1;33m\u001b[0m\u001b[0m\n\u001b[1;32m--> 204\u001b[1;33m         \u001b[0mnode_ix\u001b[0m \u001b[1;33m=\u001b[0m \u001b[0mnp\u001b[0m\u001b[1;33m.\u001b[0m\u001b[0mwhere\u001b[0m\u001b[1;33m(\u001b[0m\u001b[0mself\u001b[0m\u001b[1;33m.\u001b[0m\u001b[0mget_node_labels\u001b[0m\u001b[1;33m(\u001b[0m\u001b[1;33m)\u001b[0m\u001b[1;33m==\u001b[0m\u001b[0mnode_label\u001b[0m\u001b[1;33m)\u001b[0m\u001b[1;33m[\u001b[0m\u001b[1;36m0\u001b[0m\u001b[1;33m]\u001b[0m\u001b[1;33m[\u001b[0m\u001b[1;36m0\u001b[0m\u001b[1;33m]\u001b[0m\u001b[1;33m.\u001b[0m\u001b[0mastype\u001b[0m\u001b[1;33m(\u001b[0m\u001b[0mint\u001b[0m\u001b[1;33m)\u001b[0m\u001b[1;33m\u001b[0m\u001b[1;33m\u001b[0m\u001b[0m\n\u001b[0m\u001b[0;32m    205\u001b[0m         \u001b[1;32mreturn\u001b[0m \u001b[0mnode_ix\u001b[0m\u001b[1;33m\u001b[0m\u001b[1;33m\u001b[0m\u001b[0m\n\u001b[0;32m    206\u001b[0m \u001b[1;33m\u001b[0m\u001b[0m\n",
      "\u001b[1;31mIndexError\u001b[0m: index 0 is out of bounds for axis 0 with size 0"
     ]
    }
   ],
   "source": [
    "# Define assembly (alternative 2)\n",
    "constraints = [fe.Constraint([node_matrix1[0,0], None], dofs='all', node_type='beam3d'),\n",
    "              fe.Constraint([node_matrix1[-1,0], None], dofs='all', node_type='beam3d')] + constraints_columns_to_beam\n",
    "\n",
    "part1 = fe.Part(node_matrix1, element_matrix1, sections1)\n",
    "part2 = fe.Part(node_matrix2, element_matrix2, sections2)\n",
    "\n",
    "assembly = fe.Assembly([part1, part2], constraints=constraints)"
   ]
  },
  {
   "cell_type": "code",
   "execution_count": null,
   "metadata": {},
   "outputs": [],
   "source": [
    "assembly.plot()"
   ]
  },
  {
   "cell_type": "code",
   "execution_count": null,
   "metadata": {},
   "outputs": [],
   "source": [
    "# Create analysis\n",
    "forces = [fe.Force([355], [1], [10e3])] #10kN in y-direction in node 355\n",
    "part_test = fe.Part(node_matrix1, element_matrix1, sections1, \n",
    "                    constraints=[fe.Constraint([node_matrix1[0,0], node_matrix1[-1,0]], dofs='all', node_type='beam3d')])\n",
    "\n",
    "analysis = fe.Analysis(assembly, forces=forces)     #temporarily use part_test,assembly not correctly defined --> singular\n",
    "analysis.run_dynamic()"
   ]
  },
  {
   "cell_type": "code",
   "execution_count": null,
   "metadata": {
    "scrolled": false
   },
   "outputs": [],
   "source": [
    "analysis.eldef.plot(overlay_deformed=True)"
   ]
  }
 ],
 "metadata": {
  "kernelspec": {
   "display_name": "Python 3",
   "language": "python",
   "name": "python3"
  },
  "language_info": {
   "codemirror_mode": {
    "name": "ipython",
    "version": 3
   },
   "file_extension": ".py",
   "mimetype": "text/x-python",
   "name": "python",
   "nbconvert_exporter": "python",
   "pygments_lexer": "ipython3",
   "version": "3.8.5"
  }
 },
 "nbformat": 4,
 "nbformat_minor": 4
}
