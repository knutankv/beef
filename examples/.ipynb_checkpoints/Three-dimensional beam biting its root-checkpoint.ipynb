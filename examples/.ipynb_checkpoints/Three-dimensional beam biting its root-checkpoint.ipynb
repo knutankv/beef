{
 "cells": [
  {
   "cell_type": "code",
   "execution_count": 1,
   "metadata": {},
   "outputs": [],
   "source": [
    "from beef import fe\n",
    "import numpy as np\n",
    "import vispy\n",
    "vispy.use(\"jupyter_rfb\") \t# if Jupyter Labs, use 'jupyter_rfb'"
   ]
  },
  {
   "cell_type": "markdown",
   "metadata": {},
   "source": [
    "First, the `fe.Section` class is used to construct a Section object describing the properties of the beam:"
   ]
  },
  {
   "cell_type": "code",
   "execution_count": 2,
   "metadata": {},
   "outputs": [],
   "source": [
    "sections = [fe.Section(E=100, A=100, I_y=1.0, I_z=1.0, J=1e-3, poisson=0.3)] \t# list of Section objects"
   ]
  },
  {
   "cell_type": "markdown",
   "metadata": {},
   "source": [
    "Thereafter, the beam is discretized into 20 elements and is given a length of 10 m. A node matrix and an element matrix is constructed (typical input to commercial FE software), to construct the part. The beam is constrained in all degrees of freedom in node 1, by creating and inputting a list of a single `fe.Constraint` object."
   ]
  },
  {
   "cell_type": "code",
   "execution_count": 3,
   "metadata": {},
   "outputs": [
    {
     "data": {
      "application/vnd.jupyter.widget-view+json": {
       "model_id": "e9460c29072a447cbe48d22ca9fbb1e3",
       "version_major": 2,
       "version_minor": 0
      },
      "text/plain": [
       "RFBOutputContext()"
      ]
     },
     "metadata": {},
     "output_type": "display_data"
    },
    {
     "data": {
      "text/html": [
       "<div class='initial-snapshot-83aa2181f1254d78b73faa110420cf3a' style='position:relative;'><img src='data:image/png;base64,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' style='width:800.0px;height:600.0px;' /><div style='position: absolute; top:0; left:0; padding:1px 3px; background: #777; color:#fff; font-size: 90%; font-family:sans-serif; '>initial snapshot</div></div>"
      ],
      "text/plain": [
       "<jupyter_rfb._utils.Snapshot object>"
      ]
     },
     "metadata": {},
     "output_type": "display_data"
    },
    {
     "data": {
      "application/vnd.jupyter.widget-view+json": {
       "model_id": "83aa2181f1254d78b73faa110420cf3a",
       "version_major": 2,
       "version_minor": 0
      },
      "text/plain": [
       "CanvasBackend(css_height='600px', css_width='800px')"
      ]
     },
     "execution_count": 3,
     "metadata": {},
     "output_type": "execute_result"
    }
   ],
   "source": [
    "# Define mesh\n",
    "els = 8\n",
    "L = 10\n",
    "node_labels = np.arange(1, els+2)\n",
    "x = (node_labels - 1)/els*L\n",
    "node_matrix = np.vstack([node_labels.T, x.T, x.T*0, x.T*0]).T \t# rows: label, x, y, z \n",
    "element_matrix = np.vstack([np.arange(1,els+1), node_labels[0:-1], node_labels[1:]]).T # rows: label, n1, n2\n",
    "\n",
    "# Define constraints\n",
    "constraints = [fe.Constraint([1], dofs='all', node_type='beam3d')] \t# list of Constraint objects\n",
    "\n",
    "# Define part and plot part\n",
    "part = fe.Part(node_matrix, element_matrix, sections=sections, constraints=constraints)   # Part(ElDef) object\n",
    "scene, __ = part.plot(plot_nodes=True, node_labels=True)\n",
    "\n",
    "scene"
   ]
  },
  {
   "cell_type": "markdown",
   "metadata": {},
   "source": [
    "Furthermore, a moment $M=2\\pi E I/L$ (analytical moment needed for beam to bite its tail) is applied along degree-of-freedom index 2 at the rightmost node (last label in `node_labels`):"
   ]
  },
  {
   "cell_type": "code",
   "execution_count": 17,
   "metadata": {},
   "outputs": [],
   "source": [
    "# Define force\n",
    "M = [2*np.pi*sections[0].E*sections[0].I[0]/L]\t# analytical moment needed for beam to bite its tail\n",
    "dof_ix = 4\t# i.e., bending moment\n",
    "force_nodelabels = [node_labels[-1]]\t# apply force on last node (rightmost)\n",
    "forces = [fe.Force(force_nodelabels, dof_ix, M, t=1)] \t# list of Force objects"
   ]
  },
  {
   "cell_type": "markdown",
   "metadata": {},
   "source": [
    "Finally, the analysis object is initiated by the `Part` object, the list of `Force` objects, and parameters `dt` (time step) and `tol` (dictionary describing tolerance criteria for displacements, 'u' and residual forces, 'r'). The analysis is furthermore run by invoking `analysis.run_static()`:"
   ]
  },
  {
   "cell_type": "code",
   "execution_count": 18,
   "metadata": {},
   "outputs": [
    {
     "data": {
      "application/vnd.jupyter.widget-view+json": {
       "model_id": "e5fbcc849c694c51a8c24994af66691d",
       "version_major": 2,
       "version_minor": 0
      },
      "text/plain": [
       "Static analysis:   0%|          | 0/1001 [00:00<?, ?it/s]"
      ]
     },
     "metadata": {},
     "output_type": "display_data"
    }
   ],
   "source": [
    "# Define and run analysis\n",
    "dt = 0.001 \t# time step\n",
    "tol = dict(r=0.1) \t#tolerances, specified residual max. 0.1\n",
    "analysis = fe.Analysis(part, forces=forces, dt=dt, tol=tol)  # Analysis object, tmax not specified => tmax=1.0\n",
    "analysis.run_static() # run static analysis"
   ]
  },
  {
   "cell_type": "markdown",
   "metadata": {},
   "source": [
    "The resulting deformation is plotted as follows:"
   ]
  },
  {
   "cell_type": "code",
   "execution_count": 19,
   "metadata": {},
   "outputs": [
    {
     "data": {
      "application/vnd.jupyter.widget-view+json": {
       "model_id": "b19700578e594c448f7bf279254f996a",
       "version_major": 2,
       "version_minor": 0
      },
      "text/plain": [
       "RFBOutputContext()"
      ]
     },
     "metadata": {},
     "output_type": "display_data"
    },
    {
     "data": {
      "text/html": [
       "<div class='initial-snapshot-a217d118b4de4c78a7a43b5d5b42ad03' style='position:relative;'><img src='data:image/png;base64,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' style='width:800.0px;height:600.0px;' /><div style='position: absolute; top:0; left:0; padding:1px 3px; background: #777; color:#fff; font-size: 90%; font-family:sans-serif; '>initial snapshot</div></div>"
      ],
      "text/plain": [
       "<jupyter_rfb._utils.Snapshot object>"
      ]
     },
     "metadata": {},
     "output_type": "display_data"
    },
    {
     "data": {
      "application/vnd.jupyter.widget-view+json": {
       "model_id": "a217d118b4de4c78a7a43b5d5b42ad03",
       "version_major": 2,
       "version_minor": 0
      },
      "text/plain": [
       "CanvasBackend(css_height='600px', css_width='800px')"
      ]
     },
     "execution_count": 19,
     "metadata": {},
     "output_type": "execute_result"
    }
   ],
   "source": [
    "scene, __ = analysis.eldef.plot(node_labels=False, element_labels=False, plot_nodes=True, overlay_deformed=True)\n",
    "scene"
   ]
  },
  {
   "cell_type": "code",
   "execution_count": null,
   "metadata": {},
   "outputs": [],
   "source": []
  }
 ],
 "metadata": {
  "kernelspec": {
   "display_name": "Python 3 (ipykernel)",
   "language": "python",
   "name": "python3"
  },
  "language_info": {
   "codemirror_mode": {
    "name": "ipython",
    "version": 3
   },
   "file_extension": ".py",
   "mimetype": "text/x-python",
   "name": "python",
   "nbconvert_exporter": "python",
   "pygments_lexer": "ipython3",
   "version": "3.8.5"
  },
  "vscode": {
   "interpreter": {
    "hash": "405ffbce1b55fd66068d104091c85397ff7cc906e265df46fa9cd0d07ef223f6"
   }
  }
 },
 "nbformat": 4,
 "nbformat_minor": 4
}
