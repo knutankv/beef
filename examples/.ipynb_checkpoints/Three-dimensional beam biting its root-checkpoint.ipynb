{
 "cells": [
  {
   "cell_type": "markdown",
   "metadata": {},
   "source": [
    "# Example: Three-dimensional beam biting its root"
   ]
  },
  {
   "cell_type": "code",
   "execution_count": 1,
   "metadata": {},
   "outputs": [],
   "source": [
    "from beef import fe\n",
    "import numpy as np\n",
    "import vispy\n",
    "vispy.use(\"jupyter_rfb\") \t# if Jupyter Labs, use 'jupyter_rfb'"
   ]
  },
  {
   "cell_type": "markdown",
   "metadata": {},
   "source": [
    "First, the `fe.Section` class is used to construct a Section object describing the properties of the beam:"
   ]
  },
  {
   "cell_type": "code",
   "execution_count": 2,
   "metadata": {},
   "outputs": [],
   "source": [
    "sections = [fe.Section(E=100, A=100, I_y=0.1, I_z=0.1, J=1e-3, poisson=0.3)] \t# list of Section objects"
   ]
  },
  {
   "cell_type": "markdown",
   "metadata": {},
   "source": [
    "Thereafter, the beam is discretized into 20 elements and is given a length of 10 m. A node matrix and an element matrix is constructed (typical input to commercial FE software), to construct the part. The beam is constrained in all degrees of freedom in node 1, by creating and inputting a list of a single `fe.Constraint` object."
   ]
  },
  {
   "cell_type": "code",
   "execution_count": 3,
   "metadata": {
    "scrolled": false
   },
   "outputs": [
    {
     "data": {
      "application/vnd.jupyter.widget-view+json": {
       "model_id": "1f0173e9e5aa4c519d9ee37f79aa4863",
       "version_major": 2,
       "version_minor": 0
      },
      "text/plain": [
       "RFBOutputContext()"
      ]
     },
     "metadata": {},
     "output_type": "display_data"
    },
    {
     "data": {
      "text/html": [
       "<div class='initial-snapshot-83797956cd474e55b713d70185ff765e' style='position:relative;'><img src='data:image/png;base64,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' style='width:800.0px;height:600.0px;' /><div style='position: absolute; top:0; left:0; padding:1px 3px; background: #777; color:#fff; font-size: 90%; font-family:sans-serif; '>initial snapshot</div></div>"
      ],
      "text/plain": [
       "<jupyter_rfb._utils.Snapshot object>"
      ]
     },
     "metadata": {},
     "output_type": "display_data"
    },
    {
     "data": {
      "application/vnd.jupyter.widget-view+json": {
       "model_id": "83797956cd474e55b713d70185ff765e",
       "version_major": 2,
       "version_minor": 0
      },
      "text/plain": [
       "CanvasBackend(css_height='600px', css_width='800px')"
      ]
     },
     "execution_count": 3,
     "metadata": {},
     "output_type": "execute_result"
    }
   ],
   "source": [
    "# Define mesh\n",
    "els = 12\n",
    "L = 100\n",
    "node_labels = np.arange(1, els+2)\n",
    "x = (node_labels - 1)/els*L\n",
    "node_matrix = np.vstack([node_labels.T, x.T, x.T*0, x.T*0]).T \t# rows: label, x, y, z \n",
    "element_matrix = np.vstack([np.arange(1,els+1), node_labels[0:-1], node_labels[1:]]).T # rows: label, n1, n2\n",
    "\n",
    "# Define constraints\n",
    "constraints = [fe.Constraint([1], dofs='all', node_type='beam3d')] \t# list of Constraint objects\n",
    "\n",
    "# Define part and plot part\n",
    "part = fe.Part(node_matrix, element_matrix, sections=sections, constraints=constraints)   # Part(ElDef) object\n",
    "scene, __ = part.plot(plot_nodes=False, node_labels=False)\n",
    "\n",
    "scene"
   ]
  },
  {
   "cell_type": "markdown",
   "metadata": {},
   "source": [
    "Furthermore, a moment $M=2\\pi E I/L$ (analytical moment needed for beam to bite its tail) is applied along degree-of-freedom index 2 at the rightmost node (last label in `node_labels`):"
   ]
  },
  {
   "cell_type": "code",
   "execution_count": 4,
   "metadata": {},
   "outputs": [],
   "source": [
    "# Define force\n",
    "M = [2*np.pi*sections[0].E*sections[0].I[0]/L]\t# analytical moment needed for beam to bite its tail\n",
    "dof_ix = 5\t# i.e., bending moment\n",
    "force_nodelabels = [node_labels[-1]]\t# apply force on last node (rightmost)\n",
    "forces = [fe.Force(force_nodelabels, dof_ix, M, t=1)] \t# list of Force objects"
   ]
  },
  {
   "cell_type": "markdown",
   "metadata": {},
   "source": [
    "Finally, the analysis object is initiated by the `Part` object, the list of `Force` objects, and parameters `dt` (time step) and `tol` (dictionary describing tolerance criteria for displacements, 'u' and residual forces, 'r'). The analysis is furthermore run by invoking `analysis.run_static()`:"
   ]
  },
  {
   "cell_type": "code",
   "execution_count": 7,
   "metadata": {
    "scrolled": false
   },
   "outputs": [
    {
     "data": {
      "application/vnd.jupyter.widget-view+json": {
       "model_id": "7d54489640924fd78aaa415b1b294a56",
       "version_major": 2,
       "version_minor": 0
      },
      "text/plain": [
       "Static analysis:   0%|          | 0/11 [00:00<?, ?it/s]"
      ]
     },
     "metadata": {},
     "output_type": "display_data"
    }
   ],
   "source": [
    "# Define and run analysis\n",
    "dt = 0.1\t# time step\n",
    "tol = dict(r=1e-2) \t#tolerances, specified residual max. 1e-2\n",
    "analysis = fe.Analysis(part, forces=forces, dt=dt, tol=tol)  # Analysis object, tmax not specified => tmax=1.0\n",
    "analysis.run_static() # run static analysis"
   ]
  },
  {
   "cell_type": "markdown",
   "metadata": {},
   "source": [
    "The resulting deformation is plotted as follows:"
   ]
  },
  {
   "cell_type": "code",
   "execution_count": 8,
   "metadata": {},
   "outputs": [
    {
     "data": {
      "application/vnd.jupyter.widget-view+json": {
       "model_id": "c0c95cf6f9804aefb15a01af5a9c5f90",
       "version_major": 2,
       "version_minor": 0
      },
      "text/plain": [
       "RFBOutputContext()"
      ]
     },
     "metadata": {},
     "output_type": "display_data"
    },
    {
     "data": {
      "text/html": [
       "<div class='initial-snapshot-25e6ed4c40bd4e3abf7a4e0529cf3ee8' style='position:relative;'><img src='data:image/png;base64,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' style='width:800.0px;height:600.0px;' /><div style='position: absolute; top:0; left:0; padding:1px 3px; background: #777; color:#fff; font-size: 90%; font-family:sans-serif; '>initial snapshot</div></div>"
      ],
      "text/plain": [
       "<jupyter_rfb._utils.Snapshot object>"
      ]
     },
     "metadata": {},
     "output_type": "display_data"
    },
    {
     "data": {
      "application/vnd.jupyter.widget-view+json": {
       "model_id": "25e6ed4c40bd4e3abf7a4e0529cf3ee8",
       "version_major": 2,
       "version_minor": 0
      },
      "text/plain": [
       "CanvasBackend(css_height='600px', css_width='800px')"
      ]
     },
     "execution_count": 8,
     "metadata": {},
     "output_type": "execute_result"
    }
   ],
   "source": [
    "scene, __ = analysis.eldef.plot(node_labels=False, element_labels=False, plot_nodes=True, overlay_deformed=True)\n",
    "scene"
   ]
  }
 ],
 "metadata": {
  "kernelspec": {
   "display_name": "Python 3 (ipykernel)",
   "language": "python",
   "name": "python3"
  },
  "language_info": {
   "codemirror_mode": {
    "name": "ipython",
    "version": 3
   },
   "file_extension": ".py",
   "mimetype": "text/x-python",
   "name": "python",
   "nbconvert_exporter": "python",
   "pygments_lexer": "ipython3",
   "version": "3.8.5"
  },
  "vscode": {
   "interpreter": {
    "hash": "405ffbce1b55fd66068d104091c85397ff7cc906e265df46fa9cd0d07ef223f6"
   }
  }
 },
 "nbformat": 4,
 "nbformat_minor": 4
}
