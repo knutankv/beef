{
 "cells": [
  {
   "cell_type": "markdown",
   "metadata": {},
   "source": [
    "# Example: Three-dimensional beam biting its root"
   ]
  },
  {
   "cell_type": "code",
   "execution_count": 1,
   "metadata": {},
   "outputs": [],
   "source": [
    "from beef import fe\n",
    "import numpy as np\n",
    "import vispy\n",
    "vispy.use(\"jupyter_rfb\") \t# if Jupyter Labs, use 'jupyter_rfb'"
   ]
  },
  {
   "cell_type": "markdown",
   "metadata": {},
   "source": [
    "First, the `fe.Section` class is used to construct a Section object describing the properties of the beam:"
   ]
  },
  {
   "cell_type": "code",
   "execution_count": 2,
   "metadata": {},
   "outputs": [],
   "source": [
    "sections = [fe.Section(E=100, A=100, I_y=0.1, I_z=0.1, J=1e-3, poisson=0.3)] \t# list of Section objects"
   ]
  },
  {
   "cell_type": "markdown",
   "metadata": {},
   "source": [
    "Thereafter, the beam is discretized into 20 elements and is given a length of 10 m. A node matrix and an element matrix is constructed (typical input to commercial FE software), to construct the part. The beam is constrained in all degrees of freedom in node 1, by creating and inputting a list of a single `fe.Constraint` object."
   ]
  },
  {
   "cell_type": "code",
   "execution_count": 9,
   "metadata": {},
   "outputs": [
    {
     "data": {
      "application/vnd.jupyter.widget-view+json": {
       "model_id": "448d3f18f2844cefa03447b1cce3b19e",
       "version_major": 2,
       "version_minor": 0
      },
      "text/plain": [
       "RFBOutputContext()"
      ]
     },
     "metadata": {},
     "output_type": "display_data"
    },
    {
     "data": {
      "text/html": [
       "<div class='initial-snapshot-9a54b0bd9039412295bad0154a04af94' style='position:relative;'><img src='data:image/png;base64,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' style='width:800.0px;height:600.0px;' /><div style='position: absolute; top:0; left:0; padding:1px 3px; background: #777; color:#fff; font-size: 90%; font-family:sans-serif; '>initial snapshot</div></div>"
      ],
      "text/plain": [
       "<jupyter_rfb._utils.Snapshot object>"
      ]
     },
     "metadata": {},
     "output_type": "display_data"
    },
    {
     "data": {
      "application/vnd.jupyter.widget-view+json": {
       "model_id": "9a54b0bd9039412295bad0154a04af94",
       "version_major": 2,
       "version_minor": 0
      },
      "text/plain": [
       "CanvasBackend(css_height='600px', css_width='800px')"
      ]
     },
     "execution_count": 9,
     "metadata": {},
     "output_type": "execute_result"
    }
   ],
   "source": [
    "# Define mesh\n",
    "els = 10\n",
    "L = 10\n",
    "node_labels = np.arange(1, els+2)\n",
    "x = (node_labels - 1)/els*L\n",
    "node_matrix = np.vstack([node_labels.T, x.T, x.T*0, x.T*0]).T \t# rows: label, x, y, z \n",
    "element_matrix = np.vstack([np.arange(1,els+1), node_labels[0:-1], node_labels[1:]]).T # rows: label, n1, n2\n",
    "\n",
    "# Define constraints\n",
    "constraints = [fe.Constraint([1], dofs='all', node_type='beam3d')] \t# list of Constraint objects\n",
    "\n",
    "# Define part and plot part\n",
    "part = fe.Part(node_matrix, element_matrix, sections=sections, constraints=constraints)   # Part(ElDef) object\n",
    "scene, __ = part.plot(plot_nodes=False, node_labels=False)\n",
    "\n",
    "scene"
   ]
  },
  {
   "cell_type": "markdown",
   "metadata": {},
   "source": [
    "Furthermore, a moment $M=2\\pi E I/L$ (analytical moment needed for beam to bite its tail) is applied along degree-of-freedom index 2 at the rightmost node (last label in `node_labels`):"
   ]
  },
  {
   "cell_type": "code",
   "execution_count": 20,
   "metadata": {},
   "outputs": [],
   "source": [
    "# Define force\n",
    "M = [2*np.pi*sections[0].E*sections[0].I[0]/L]\t# analytical moment needed for beam to bite its tail\n",
    "M = 0.01\n",
    "dof_ix = 2\t# i.e., bending moment\n",
    "force_nodelabels = [node_labels[-1]]\t# apply force on last node (rightmost)\n",
    "forces = [fe.Force(force_nodelabels, dof_ix, M, t=1)] \t# list of Force objects"
   ]
  },
  {
   "cell_type": "markdown",
   "metadata": {},
   "source": [
    "Finally, the analysis object is initiated by the `Part` object, the list of `Force` objects, and parameters `dt` (time step) and `tol` (dictionary describing tolerance criteria for displacements, 'u' and residual forces, 'r'). The analysis is furthermore run by invoking `analysis.run_static()`:"
   ]
  },
  {
   "cell_type": "code",
   "execution_count": 23,
   "metadata": {},
   "outputs": [
    {
     "data": {
      "application/vnd.jupyter.widget-view+json": {
       "model_id": "9bb336086c964c2c8b2bfa12984f1203",
       "version_major": 2,
       "version_minor": 0
      },
      "text/plain": [
       "Static analysis:   0%|          | 0/101 [00:00<?, ?it/s]"
      ]
     },
     "metadata": {},
     "output_type": "display_data"
    }
   ],
   "source": [
    "# Define and run analysis\n",
    "dt = 0.01 \t# time step\n",
    "tol = dict(r=0.1) \t#tolerances, specified residual max. 0.1\n",
    "analysis = fe.Analysis(part, forces=forces, dt=dt, tol=tol)  # Analysis object, tmax not specified => tmax=1.0\n",
    "analysis.run_static() # run static analysis"
   ]
  },
  {
   "cell_type": "markdown",
   "metadata": {},
   "source": [
    "The resulting deformation is plotted as follows:"
   ]
  },
  {
   "cell_type": "code",
   "execution_count": 24,
   "metadata": {},
   "outputs": [
    {
     "data": {
      "application/vnd.jupyter.widget-view+json": {
       "model_id": "84d51a6596da42c48c1382cd41bc8640",
       "version_major": 2,
       "version_minor": 0
      },
      "text/plain": [
       "RFBOutputContext()"
      ]
     },
     "metadata": {},
     "output_type": "display_data"
    },
    {
     "data": {
      "text/html": [
       "<div class='initial-snapshot-f8d7b8a7681148009db01a8bb4f0f6df' style='position:relative;'><img src='data:image/png;base64,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' style='width:800.0px;height:600.0px;' /><div style='position: absolute; top:0; left:0; padding:1px 3px; background: #777; color:#fff; font-size: 90%; font-family:sans-serif; '>initial snapshot</div></div>"
      ],
      "text/plain": [
       "<jupyter_rfb._utils.Snapshot object>"
      ]
     },
     "metadata": {},
     "output_type": "display_data"
    },
    {
     "data": {
      "application/vnd.jupyter.widget-view+json": {
       "model_id": "f8d7b8a7681148009db01a8bb4f0f6df",
       "version_major": 2,
       "version_minor": 0
      },
      "text/plain": [
       "CanvasBackend(css_height='600px', css_width='800px')"
      ]
     },
     "execution_count": 24,
     "metadata": {},
     "output_type": "execute_result"
    }
   ],
   "source": [
    "scene, __ = analysis.eldef.plot(node_labels=False, element_labels=False, plot_nodes=True, overlay_deformed=True)\n",
    "scene"
   ]
  },
  {
   "cell_type": "code",
   "execution_count": null,
   "metadata": {},
   "outputs": [],
   "source": []
  }
 ],
 "metadata": {
  "kernelspec": {
   "display_name": "Python 3 (ipykernel)",
   "language": "python",
   "name": "python3"
  },
  "language_info": {
   "codemirror_mode": {
    "name": "ipython",
    "version": 3
   },
   "file_extension": ".py",
   "mimetype": "text/x-python",
   "name": "python",
   "nbconvert_exporter": "python",
   "pygments_lexer": "ipython3",
   "version": "3.8.5"
  },
  "vscode": {
   "interpreter": {
    "hash": "405ffbce1b55fd66068d104091c85397ff7cc906e265df46fa9cd0d07ef223f6"
   }
  }
 },
 "nbformat": 4,
 "nbformat_minor": 4
}
