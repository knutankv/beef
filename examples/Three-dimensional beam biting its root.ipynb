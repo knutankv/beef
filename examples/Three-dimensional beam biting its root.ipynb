{
 "cells": [
  {
   "cell_type": "markdown",
   "metadata": {},
   "source": [
    "# Example: Three-dimensional beam biting its root"
   ]
  },
  {
   "cell_type": "code",
   "execution_count": 1,
   "metadata": {},
   "outputs": [],
   "source": [
    "from beef import fe\n",
    "import numpy as np\n",
    "\n",
    "import pyvista as pv\n",
    "pv.set_jupyter_backend('trame')"
   ]
  },
  {
   "cell_type": "markdown",
   "metadata": {},
   "source": [
    "First, the `fe.Section` class is used to construct a Section object describing the properties of the beam:"
   ]
  },
  {
   "cell_type": "code",
   "execution_count": 2,
   "metadata": {},
   "outputs": [],
   "source": [
    "sections = [fe.Section(E=100, A=100, I_y=0.1, I_z=0.1, J=1e-3, poisson=0.3, e3=np.array([0,0,1.0]))] \t# list of Section objects"
   ]
  },
  {
   "cell_type": "markdown",
   "metadata": {},
   "source": [
    "Thereafter, the beam is discretized into 20 elements and is given a length of 10 m. A node matrix and an element matrix is constructed (typical input to commercial FE software), to construct the part. The beam is constrained in all degrees of freedom in node 1, by creating and inputting a list of a single `fe.Constraint` object."
   ]
  },
  {
   "cell_type": "code",
   "execution_count": 3,
   "metadata": {
    "scrolled": false
   },
   "outputs": [
    {
     "data": {
      "application/vnd.jupyter.widget-view+json": {
       "model_id": "2170ea028d0a4b7787b043651cd2ec09",
       "version_major": 2,
       "version_minor": 0
      },
      "text/plain": [
       "Widget(value='<iframe src=\"http://localhost:58071/index.html?ui=P_0x29adb4553f0_0&reconnect=auto\" class=\"pyvis…"
      ]
     },
     "metadata": {},
     "output_type": "display_data"
    }
   ],
   "source": [
    "# Define mesh\n",
    "els = 20\n",
    "L = 100\n",
    "node_labels = np.arange(1, els+2)\n",
    "x = (node_labels - 1)/els*L\n",
    "node_matrix = np.vstack([node_labels.T, x.T, x.T*0, x.T*0]).T \t# rows: label, x, y, z \n",
    "element_matrix = np.vstack([np.arange(1,els+1), node_labels[0:-1], node_labels[1:]]).T # rows: label, n1, n2\n",
    "\n",
    "# Define constraints\n",
    "constraints = [fe.Constraint([1], dofs='all', node_type='beam3d')] \t# list of Constraint objects\n",
    "\n",
    "# Define part and plot part\n",
    "part = fe.Part(node_matrix, element_matrix, sections=sections, constraints=constraints)   # Part(ElDef) object\n",
    "pl = part.plot(plot_nodes=False, node_labels=False)"
   ]
  },
  {
   "cell_type": "markdown",
   "metadata": {},
   "source": [
    "Furthermore, a moment $M=2\\pi E I/L$ (analytical moment needed for beam to bite its tail) is applied along degree-of-freedom index 2 at the rightmost node (last label in `node_labels`):"
   ]
  },
  {
   "cell_type": "code",
   "execution_count": 4,
   "metadata": {},
   "outputs": [],
   "source": [
    "# Define force\n",
    "M = [2*np.pi*sections[0].E*sections[0].I[0]/L]\t# analytical moment needed for beam to bite its tail\n",
    "dof_ix = 5\t# i.e., bending moment\n",
    "force_nodelabels = [node_labels[-1]]\t# apply force on last node (rightmost)\n",
    "forces = [fe.Force(force_nodelabels, dof_ix, M, t=1)] \t# list of Force objects"
   ]
  },
  {
   "cell_type": "markdown",
   "metadata": {},
   "source": [
    "Finally, the analysis object is initiated by the `Part` object, the list of `Force` objects, and parameters `dt` (time step) and `tol` (dictionary describing tolerance criteria for displacements, 'u' and residual forces, 'r'). The analysis is furthermore run by invoking `analysis.run_static()`:"
   ]
  },
  {
   "cell_type": "code",
   "execution_count": 5,
   "metadata": {
    "scrolled": false
   },
   "outputs": [
    {
     "data": {
      "application/vnd.jupyter.widget-view+json": {
       "model_id": "73db546127a24623983704e8ab3eea77",
       "version_major": 2,
       "version_minor": 0
      },
      "text/plain": [
       "Static analysis:   0%|          | 0/11 [00:00<?, ?it/s]"
      ]
     },
     "metadata": {},
     "output_type": "display_data"
    }
   ],
   "source": [
    "# Define and run analysis\n",
    "dt = 0.1\t# time step\n",
    "tol = dict(r=1e-2, u=1e-2) \t#tolerances, specified residual max. 1e-2\n",
    "analysis = fe.Analysis(part, forces=forces, dt=dt, tol=tol)  # Analysis object, tmax not specified => tmax=1.0\n",
    "analysis.run_static() # run static analysis"
   ]
  },
  {
   "cell_type": "markdown",
   "metadata": {},
   "source": [
    "The resulting deformation is plotted as follows:"
   ]
  },
  {
   "cell_type": "code",
   "execution_count": 6,
   "metadata": {},
   "outputs": [
    {
     "data": {
      "application/vnd.jupyter.widget-view+json": {
       "model_id": "03bbca67c0084596954332e2876cc28f",
       "version_major": 2,
       "version_minor": 0
      },
      "text/plain": [
       "Widget(value='<iframe src=\"http://localhost:58071/index.html?ui=P_0x29add410760_1&reconnect=auto\" class=\"pyvis…"
      ]
     },
     "metadata": {},
     "output_type": "display_data"
    }
   ],
   "source": [
    "pl = analysis.eldef.plot(node_labels=False, element_labels=False, plot_nodes=True, \n",
    "                         plot_states=['undeformed', 'deformed'], show=False)\n",
    "\n",
    "pl.view_xy()\n",
    "pl.show()"
   ]
  }
 ],
 "metadata": {
  "kernelspec": {
   "display_name": "Python 3 (ipykernel)",
   "language": "python",
   "name": "python3"
  },
  "language_info": {
   "codemirror_mode": {
    "name": "ipython",
    "version": 3
   },
   "file_extension": ".py",
   "mimetype": "text/x-python",
   "name": "python",
   "nbconvert_exporter": "python",
   "pygments_lexer": "ipython3",
   "version": "3.10.9"
  },
  "vscode": {
   "interpreter": {
    "hash": "405ffbce1b55fd66068d104091c85397ff7cc906e265df46fa9cd0d07ef223f6"
   }
  }
 },
 "nbformat": 4,
 "nbformat_minor": 4
}
