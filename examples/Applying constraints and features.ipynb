{
 "cells": [
  {
   "cell_type": "markdown",
   "id": "c9c635ad",
   "metadata": {},
   "source": [
    "# Applying constraints and features\n",
    "This notebook will showcase the usage of constraints and features.\n",
    "\n",
    "Lets start by creating a simple 3d model of a simply supported beam and a vertical column to be attached at midspan:"
   ]
  },
  {
   "cell_type": "code",
   "execution_count": 1,
   "id": "e58f5d6e",
   "metadata": {},
   "outputs": [
    {
     "data": {
      "application/vnd.jupyter.widget-view+json": {
       "model_id": "f00306b859354e89998fd859c507f5a7",
       "version_major": 2,
       "version_minor": 0
      },
      "text/plain": [
       "Widget(value=\"<iframe src='http://localhost:59875/index.html?ui=P_0x2176b2586d0_0&reconnect=auto' style='width…"
      ]
     },
     "metadata": {},
     "output_type": "display_data"
    },
    {
     "data": {
      "text/plain": [
       "<pyvista.plotting.plotting.Plotter at 0x2176b2586d0>"
      ]
     },
     "execution_count": 1,
     "metadata": {},
     "output_type": "execute_result"
    }
   ],
   "source": [
    "from beef import fe\n",
    "import numpy as np\n",
    "\n",
    "node_matrix = np.array([[1, 0, 0, 0],\n",
    "                        [2, 5, 0, 0],\n",
    "                        [3, 10, 0, 0],\n",
    "                        [11, 5, 0, 0.5],\n",
    "                        [12, 5, 0, 5],\n",
    "                        [13, 5, 0, 10]\n",
    "                       ])\n",
    "\n",
    "element_matrix = np.array([[1, 1, 2],\n",
    "                          [2, 2, 3],\n",
    "                          [3, 11, 12],\n",
    "                          [4,12,13]])\n",
    "\n",
    "supports = [fe.Constraint([3], dofs='all'), fe.Constraint([1], dofs='all')]\n",
    "\n",
    "# Section definition\n",
    "E = 210e9\n",
    "A = 0.1\n",
    "I_y = 0.05\n",
    "I_z = 0.05\n",
    "J = 0.1\n",
    "section = fe.Section(E, A=A, I_y=I_y, I_z=I_z, J=J)\n",
    "\n",
    "part = fe.Part(node_matrix, element_matrix, constraints=supports, sections=section)\n",
    "part.plot(node_labels=True)"
   ]
  },
  {
   "cell_type": "markdown",
   "id": "a1f362be",
   "metadata": {},
   "source": [
    "For visibility, the two nodes 11 and 2 are placed a small distance apart. However, in many realistic cases, it would be reasonable to give them the exact same position."
   ]
  },
  {
   "cell_type": "markdown",
   "id": "15bf47ef",
   "metadata": {},
   "source": [
    "## Connection using constraints"
   ]
  },
  {
   "cell_type": "markdown",
   "id": "8a2661d8",
   "metadata": {},
   "source": [
    "Constraints are defined as fixed links between master nodes and slave nodes. If only one node list is input, the specified DOFs of the nodes are considered fixed to the ground. Currently, no constraint stiffness is supported. To introduce stiffness (different than infinite) in constraints, the the relevant coupled nodes must be modelled apart and a feature placed between the relevant nodes (see next section for an example).\n",
    "\n",
    "If node 2 and 11 are to be fully fixed, this is done by the following constraint:\n"
   ]
  },
  {
   "cell_type": "code",
   "execution_count": 2,
   "id": "1a185415",
   "metadata": {
    "scrolled": false
   },
   "outputs": [
    {
     "data": {
      "application/vnd.jupyter.widget-view+json": {
       "model_id": "32f9ef9008934f73aedbf08ece4641c9",
       "version_major": 2,
       "version_minor": 0
      },
      "text/plain": [
       "Widget(value=\"<iframe src='http://localhost:59875/index.html?ui=P_0x2176957db40_1&reconnect=auto' style='width…"
      ]
     },
     "metadata": {},
     "output_type": "display_data"
    },
    {
     "data": {
      "text/plain": [
       "<pyvista.plotting.plotting.Plotter at 0x2176957db40>"
      ]
     },
     "execution_count": 2,
     "metadata": {},
     "output_type": "execute_result"
    }
   ],
   "source": [
    "# All DOFs to be constrainted, specified using dofs='all' or dofs=[0,1,2,3,4,5]\n",
    "constraint_beam_to_column = [fe.Constraint([2], [11], dofs='all')]\n",
    "\n",
    "part = fe.Part(node_matrix, element_matrix, constraints=supports+constraint_beam_to_column, sections=section)\n",
    "\n",
    "part.plot(constraints_on=['undeformed'], plot_constraints=['relative'], \n",
    "          node_labels=True, constraint_opts=dict(color='black'))"
   ]
  },
  {
   "cell_type": "markdown",
   "id": "4c52bddd",
   "metadata": {},
   "source": [
    "The constrained part is loaded by a 5MN force on top of the column to verify it has a reasonable behaviour:"
   ]
  },
  {
   "cell_type": "code",
   "execution_count": 3,
   "id": "f1412020",
   "metadata": {},
   "outputs": [
    {
     "data": {
      "application/vnd.jupyter.widget-view+json": {
       "model_id": "2313123993f04b6799e4ac894ef57aae",
       "version_major": 2,
       "version_minor": 0
      },
      "text/plain": [
       "Static analysis:   0%|          | 0/2 [00:00<?, ?it/s]"
      ]
     },
     "metadata": {},
     "output_type": "display_data"
    },
    {
     "data": {
      "application/vnd.jupyter.widget-view+json": {
       "model_id": "faff43e6f5e342f1a7b25dad4abe8df2",
       "version_major": 2,
       "version_minor": 0
      },
      "text/plain": [
       "Widget(value=\"<iframe src='http://localhost:59875/index.html?ui=P_0x2176fd25870_2&reconnect=auto' style='width…"
      ]
     },
     "metadata": {},
     "output_type": "display_data"
    },
    {
     "data": {
      "text/plain": [
       "<pyvista.plotting.plotting.Plotter at 0x2176fd25870>"
      ]
     },
     "execution_count": 3,
     "metadata": {},
     "output_type": "execute_result"
    }
   ],
   "source": [
    "force = fe.Force([13], dofs=[1], amplitudes=[5.0e6], t=1)\n",
    "analysis = fe.Analysis(part, forces = [force])\n",
    "analysis.run_lin_static()\n",
    "analysis.eldef.plot(plot_states=['undeformed', 'deformed'], \n",
    "                    constraints_on=['undeformed', 'deformed'], plot_constraints=['relative'])"
   ]
  },
  {
   "cell_type": "markdown",
   "id": "23128028",
   "metadata": {},
   "source": [
    "## Connection using features"
   ]
  },
  {
   "cell_type": "markdown",
   "id": "794992dd",
   "metadata": {},
   "source": [
    "Now, lets try to model the same behaviour, but where the connection has a specified stiffness instead of a complete fixation. Then, a feature is needed. The following features are currently supported in beef:\n",
    "\n",
    "* `Spring`\n",
    "* `Dashpot` \n",
    "* `PointMass` \n",
    "* `CustomMatrix` \n",
    "\n",
    "It is referred to the documentation (in code or online) for more details. However, all four features are inherited from the main `Feature` class. The `CustomMatrix` feature is the most flexible as it allows the user to directly specify the wanted matrix. The other the features are less flexible and assumes that the same DOFs (global) of the various nodes are connected. For example, the feature `fe.Spring([2,11], [0,1,2], 100)` creates three springs of stiffness 100 N/m between nodes 2 and 11: one along global DOF 0, one along global DOF 1 and one along global DOF 2. The feature`fe.Spring([2], [0,1,2], 100)` does the same, but assumes that the end previously connected to 11 is now instead connected to the ground.\n",
    "\n",
    "To model the same connection as above using springs, we introduce the following very stiff springs (k = 1000 GN/m or 1000 GNm/rad):"
   ]
  },
  {
   "cell_type": "code",
   "execution_count": 4,
   "id": "bd81b66a",
   "metadata": {
    "scrolled": false
   },
   "outputs": [],
   "source": [
    "k = 1000e9\n",
    "dofs = [0,1,2,3,4,5]\n",
    "node_labels = [2,11]\n",
    "spring_connection = [fe.Spring(node_labels, dofs, k)]\n",
    "part = fe.Part(node_matrix, element_matrix, constraints=supports, features=spring_connection, sections=section)"
   ]
  },
  {
   "cell_type": "code",
   "execution_count": 5,
   "id": "daee5130",
   "metadata": {},
   "outputs": [
    {
     "data": {
      "application/vnd.jupyter.widget-view+json": {
       "model_id": "5f665c991b2246a3944bbc4a28e94473",
       "version_major": 2,
       "version_minor": 0
      },
      "text/plain": [
       "Static analysis:   0%|          | 0/2 [00:00<?, ?it/s]"
      ]
     },
     "metadata": {},
     "output_type": "display_data"
    }
   ],
   "source": [
    "analysis = fe.Analysis(part, forces=[force])\n",
    "analysis.run_lin_static()"
   ]
  },
  {
   "cell_type": "code",
   "execution_count": 6,
   "id": "897403f3",
   "metadata": {},
   "outputs": [
    {
     "data": {
      "application/vnd.jupyter.widget-view+json": {
       "model_id": "36d8e5618aa14a5397bf24c743082b0f",
       "version_major": 2,
       "version_minor": 0
      },
      "text/plain": [
       "Widget(value=\"<iframe src='http://localhost:59875/index.html?ui=P_0x2177b5212a0_3&reconnect=auto' style='width…"
      ]
     },
     "metadata": {},
     "output_type": "display_data"
    },
    {
     "data": {
      "text/plain": [
       "<pyvista.plotting.plotting.Plotter at 0x2177b5212a0>"
      ]
     },
     "execution_count": 6,
     "metadata": {},
     "output_type": "execute_result"
    }
   ],
   "source": [
    "analysis.eldef.plot(plot_states=['undeformed', 'deformed'])"
   ]
  },
  {
   "cell_type": "markdown",
   "id": "be3d19ab",
   "metadata": {},
   "source": [
    "Alternatively, the joint/connection could have different stiffnesses for different DOFs. This can be modelled using a separate `Spring` feature for each stiffness. In this example, the stiffness between the column and the beam in the direction of the force is chosen much lower than the rest (e.g. the moment stiffness):\n",
    "* Moderate spring: $k_y = 10 MN/m$\n",
    "* Very stiff springs: $k_i = 1000GN/m$ for $i=x,z,\\theta_x, \\theta_y, \\theta_z$\n",
    "\n",
    "The following cell show how this is introduced:"
   ]
  },
  {
   "cell_type": "code",
   "execution_count": 7,
   "id": "4ff46102",
   "metadata": {},
   "outputs": [],
   "source": [
    "k_stiff = 1000e9\n",
    "k_flexible = 10e6\n",
    "node_labels = [2,11]\n",
    "\n",
    "spring_connections = [fe.Spring(node_labels, [1], k_flexible),   # less stiff connection laterally to supported beam\n",
    "                     fe.Spring(node_labels, [0,2,3,4,5], k_stiff), ]  # very stiff in all other DOFs\n",
    "\n",
    "part = fe.Part(node_matrix, element_matrix, constraints=supports, features=spring_connections, sections=section)"
   ]
  },
  {
   "cell_type": "code",
   "execution_count": 8,
   "id": "80d89083",
   "metadata": {},
   "outputs": [
    {
     "data": {
      "application/vnd.jupyter.widget-view+json": {
       "model_id": "cae978bc2643418f9ae3f212afe5f1bc",
       "version_major": 2,
       "version_minor": 0
      },
      "text/plain": [
       "Static analysis:   0%|          | 0/2 [00:00<?, ?it/s]"
      ]
     },
     "metadata": {},
     "output_type": "display_data"
    },
    {
     "data": {
      "application/vnd.jupyter.widget-view+json": {
       "model_id": "39ccf59d89bd4449bb6ef7d04f2babe7",
       "version_major": 2,
       "version_minor": 0
      },
      "text/plain": [
       "Widget(value=\"<iframe src='http://localhost:59875/index.html?ui=P_0x2176fd26470_4&reconnect=auto' style='width…"
      ]
     },
     "metadata": {},
     "output_type": "display_data"
    },
    {
     "data": {
      "text/plain": [
       "<pyvista.plotting.plotting.Plotter at 0x2176fd26470>"
      ]
     },
     "execution_count": 8,
     "metadata": {},
     "output_type": "execute_result"
    }
   ],
   "source": [
    "analysis = fe.Analysis(part, forces=[force])\n",
    "analysis.run_lin_static()\n",
    "analysis.eldef.plot(plot_states=['undeformed', 'deformed'])"
   ]
  },
  {
   "cell_type": "markdown",
   "id": "5c40ae8f",
   "metadata": {},
   "source": [
    "Finally, an additional force is added along the beam as well to better illustrate the difference in stiffness:"
   ]
  },
  {
   "cell_type": "code",
   "execution_count": 9,
   "id": "9940ec0b",
   "metadata": {},
   "outputs": [
    {
     "data": {
      "application/vnd.jupyter.widget-view+json": {
       "model_id": "bc850ddf663a4fcca687bcb225f61b5c",
       "version_major": 2,
       "version_minor": 0
      },
      "text/plain": [
       "Static analysis:   0%|          | 0/2 [00:00<?, ?it/s]"
      ]
     },
     "metadata": {},
     "output_type": "display_data"
    },
    {
     "data": {
      "application/vnd.jupyter.widget-view+json": {
       "model_id": "dc1530e6148b49a2ba2a9efc6c3bfb21",
       "version_major": 2,
       "version_minor": 0
      },
      "text/plain": [
       "Widget(value=\"<iframe src='http://localhost:59875/index.html?ui=P_0x2177b5217e0_5&reconnect=auto' style='width…"
      ]
     },
     "metadata": {},
     "output_type": "display_data"
    },
    {
     "data": {
      "text/plain": [
       "<pyvista.plotting.plotting.Plotter at 0x2177b5217e0>"
      ]
     },
     "execution_count": 9,
     "metadata": {},
     "output_type": "execute_result"
    }
   ],
   "source": [
    "forces = [fe.Force([12], dofs=[0], amplitudes=[70.0e6], t=1),\n",
    "         force]\n",
    "\n",
    "part = fe.Part(node_matrix, element_matrix, constraints=supports, features=spring_connections, sections=section)\n",
    "\n",
    "analysis = fe.Analysis(part, forces=forces)\n",
    "analysis.run_lin_static()\n",
    "analysis.eldef.plot(plot_states=['undeformed', 'deformed'])"
   ]
  }
 ],
 "metadata": {
  "kernelspec": {
   "display_name": "Python 3 (ipykernel)",
   "language": "python",
   "name": "python3"
  },
  "language_info": {
   "codemirror_mode": {
    "name": "ipython",
    "version": 3
   },
   "file_extension": ".py",
   "mimetype": "text/x-python",
   "name": "python",
   "nbconvert_exporter": "python",
   "pygments_lexer": "ipython3",
   "version": "3.10.9"
  }
 },
 "nbformat": 4,
 "nbformat_minor": 5
}
